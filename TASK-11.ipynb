{
 "cells": [
  {
   "cell_type": "raw",
   "id": "38f2dfb2",
   "metadata": {},
   "source": []
  },
  {
   "cell_type": "code",
   "execution_count": 12,
   "id": "52727b0b",
   "metadata": {},
   "outputs": [
    {
     "name": "stdout",
     "output_type": "stream",
     "text": [
      "rows=4\n",
      "* \n",
      "* * \n",
      "* * * \n",
      "* * * * \n"
     ]
    }
   ],
   "source": [
    "i=int(input(\"rows=\"))\n",
    "for n in range(0,i):\n",
    "    for m in range(0,n+1):\n",
    "        print(\"*\",end=' ')\n",
    "    print(\"\\r\")"
   ]
  },
  {
   "cell_type": "code",
   "execution_count": 16,
   "id": "560baffe",
   "metadata": {},
   "outputs": [
    {
     "name": "stdout",
     "output_type": "stream",
     "text": [
      "rows=4\n",
      "1 \n",
      "2 2 \n",
      "3 3 3 \n",
      "4 4 4 4 \n"
     ]
    }
   ],
   "source": [
    "i=int(input(\"rows=\"))\n",
    "for n in range(0,i):\n",
    "    for m in range(0,n+1):\n",
    "        print(f\"{n+1}\",end=' ')\n",
    "    print(\"\\r\")"
   ]
  },
  {
   "cell_type": "code",
   "execution_count": 19,
   "id": "211de5b1",
   "metadata": {},
   "outputs": [
    {
     "name": "stdout",
     "output_type": "stream",
     "text": [
      "rows=4\n",
      "1 \n",
      "1 2 \n",
      "1 2 3 \n",
      "1 2 3 4 \n"
     ]
    }
   ],
   "source": [
    "i=int(input(\"rows=\"))\n",
    "for n in range(0,i):\n",
    "    for m in range(0,n+1):\n",
    "        print(f\"{m+1}\",end=' ')\n",
    "    print(\"\\r\")"
   ]
  },
  {
   "cell_type": "code",
   "execution_count": 29,
   "id": "e5b5208d",
   "metadata": {},
   "outputs": [
    {
     "name": "stdout",
     "output_type": "stream",
     "text": [
      "rows=5\n",
      "2 \n",
      "3 4 \n",
      "5 6 7 \n",
      "8 9 10 11 \n",
      "12 13 14 15 16 \n"
     ]
    }
   ],
   "source": [
    "i=int(input(\"rows=\"))\n",
    "b=1\n",
    "for n in range(i):\n",
    "    for m in range(n+1):\n",
    "        b+=1\n",
    "        print(b,end=' ')\n",
    "    print(\"\\r\")"
   ]
  },
  {
   "cell_type": "code",
   "execution_count": 8,
   "id": "721aeec0",
   "metadata": {},
   "outputs": [
    {
     "name": "stdout",
     "output_type": "stream",
     "text": [
      "rows=5\n",
      "1\n",
      "10\n",
      "101\n",
      "1010\n",
      "10101\n"
     ]
    }
   ],
   "source": [
    "n=int(input(\"rows=\"))\n",
    "for i in range(1,n+1):\n",
    "    for j in range(1, i+1):\n",
    "        print(j%2, end=\"\")\n",
    "    print()\n"
   ]
  },
  {
   "cell_type": "code",
   "execution_count": 2,
   "id": "dbc00dd5",
   "metadata": {},
   "outputs": [
    {
     "name": "stdout",
     "output_type": "stream",
     "text": [
      "rows=5\n",
      "1 \n",
      "2 3 \n",
      "4 5 6 \n",
      "7 8 9 10 \n",
      "11 12 13 14 15 \n"
     ]
    }
   ],
   "source": [
    "i=int(input(\"rows=\"))\n",
    "b=0\n",
    "for n in range(i):\n",
    "    for m in range(n+1):\n",
    "        b+=1\n",
    "        print(b,end=' ')\n",
    "    print(\"\\r\")"
   ]
  },
  {
   "cell_type": "code",
   "execution_count": 17,
   "id": "eb024583",
   "metadata": {},
   "outputs": [
    {
     "name": "stdout",
     "output_type": "stream",
     "text": [
      "Enter=5\n",
      "5\n",
      "54\n",
      "543\n",
      "5432\n",
      "54321\n"
     ]
    }
   ],
   "source": [
    "rows = int(input(\"Enter=\"))\n",
    "\n",
    "\n",
    "for i in range(rows,0,-1):\n",
    "\n",
    "   for j in range (rows,i-1,-1):\n",
    "\n",
    "       print(j,end=\"\")\n",
    "\n",
    "   print()\n",
    "\n"
   ]
  },
  {
   "cell_type": "code",
   "execution_count": null,
   "id": "85fe6c88",
   "metadata": {},
   "outputs": [],
   "source": []
  },
  {
   "cell_type": "code",
   "execution_count": 18,
   "id": "0045d6db",
   "metadata": {},
   "outputs": [
    {
     "name": "stdout",
     "output_type": "stream",
     "text": [
      "Enter=5\n",
      "5\n",
      "44\n",
      "333\n",
      "2222\n",
      "11111\n"
     ]
    }
   ],
   "source": [
    "rows = int(input(\"Enter=\"))\n",
    "b=0\n",
    "\n",
    "for i in range(rows,0,-1):\n",
    "\n",
    "   for j in range (rows,i-1,-1):\n",
    "\n",
    "       print(i,end=\"\")\n",
    "\n",
    "   print()"
   ]
  },
  {
   "cell_type": "code",
   "execution_count": 20,
   "id": "961f6bc9",
   "metadata": {},
   "outputs": [
    {
     "name": "stdout",
     "output_type": "stream",
     "text": [
      "Enter=5\n",
      "* * * * * \n",
      "* * * * \n",
      "* * * \n",
      "* * \n",
      "* \n"
     ]
    }
   ],
   "source": [
    "rows = int(input(\"Enter=\"))\n",
    "b=0\n",
    "\n",
    "for i in range(rows, 0, -1):\n",
    "    b += 1\n",
    "    for j in range(1, i + 1):\n",
    "        print(\"*\", end=' ')\n",
    "    print('\\r')"
   ]
  },
  {
   "cell_type": "code",
   "execution_count": 24,
   "id": "2abf302b",
   "metadata": {},
   "outputs": [
    {
     "name": "stdout",
     "output_type": "stream",
     "text": [
      "Enter=5\n",
      "1 1 1 1 1 \n",
      "2 2 2 2 \n",
      "3 3 3 \n",
      "4 4 \n",
      "5 \n"
     ]
    }
   ],
   "source": [
    "rows = int(input(\"Enter=\"))\n",
    "b=0\n",
    "\n",
    "for i in range(rows, 0, -1):\n",
    "    b += 1\n",
    "    for j in range(1, i + 1):\n",
    "        print(b, end=' ')\n",
    "    print('\\r')"
   ]
  },
  {
   "cell_type": "code",
   "execution_count": 30,
   "id": "333aea41",
   "metadata": {},
   "outputs": [
    {
     "name": "stdout",
     "output_type": "stream",
     "text": [
      "Enter=5\n",
      "1 2 3 4 5 \n",
      "1 2 3 4 \n",
      "1 2 3 \n",
      "1 2 \n",
      "1 \n"
     ]
    }
   ],
   "source": [
    "rows = int(input(\"Enter=\"))\n",
    "b=0\n",
    "\n",
    "for i in range(rows, 0, -1):\n",
    "    \n",
    "    for j in range(1, i + 1):\n",
    "        \n",
    "        print(j, end=' ')\n",
    "    print('\\r')"
   ]
  },
  {
   "cell_type": "code",
   "execution_count": 4,
   "id": "b75ae647",
   "metadata": {},
   "outputs": [
    {
     "name": "stdout",
     "output_type": "stream",
     "text": [
      "Enter=5\n",
      "5 5 5 5 5 \n",
      "4 4 4 4 \n",
      "3 3 3 \n",
      "2 2 \n",
      "1 \n"
     ]
    }
   ],
   "source": [
    "rows = int(input(\"Enter=\"))\n",
    "b=0\n",
    "\n",
    "for i in range(rows, 0, -1):\n",
    "    \n",
    "    for j in range(1, i + 1):\n",
    "        \n",
    "        print(i, end=' ')\n",
    "    print('\\r')"
   ]
  },
  {
   "cell_type": "code",
   "execution_count": 32,
   "id": "7af4909b",
   "metadata": {},
   "outputs": [
    {
     "name": "stdout",
     "output_type": "stream",
     "text": [
      "Enter=5\n",
      "5 4 3 2 1 \n",
      "4 3 2 1 \n",
      "3 2 1 \n",
      "2 1 \n",
      "1 \n",
      "\n"
     ]
    }
   ],
   "source": [
    "rows=int(input(\"Enter=\"))\n",
    "for i in range(0, rows + 1):\n",
    "    for j in range(rows - i, 0, -1):\n",
    "        print(j, end=' ')\n",
    "    print(\"\\r\")"
   ]
  },
  {
   "cell_type": "code",
   "execution_count": 34,
   "id": "53ac002b",
   "metadata": {},
   "outputs": [
    {
     "name": "stdout",
     "output_type": "stream",
     "text": [
      "Enter size=5\n",
      "        *   \n",
      "       *  *   \n",
      "      *  *  *   \n",
      "     *  *  *  *   \n",
      "    *  *  *  *  *   \n"
     ]
    }
   ],
   "source": [
    "#2\n",
    "size = int(input(\"Enter size=\"))\n",
    "m = (2 * size) - 2\n",
    "for i in range(0, size):\n",
    "    for j in range(0, m):\n",
    "        print(end=\" \")\n",
    "    # decrementing m after each loop\n",
    "    m = m - 1\n",
    "    for j in range(0, i + 1):\n",
    "        print(\"* \", end=' ')\n",
    "    print(\" \")"
   ]
  },
  {
   "cell_type": "code",
   "execution_count": 2,
   "id": "6195e8a9",
   "metadata": {},
   "outputs": [
    {
     "name": "stdout",
     "output_type": "stream",
     "text": [
      "Enter size=5\n",
      "        1  \n",
      "       2 2  \n",
      "      3 3 3  \n",
      "     4 4 4 4  \n",
      "    5 5 5 5 5  \n"
     ]
    }
   ],
   "source": [
    "size = int(input(\"Enter size=\"))\n",
    "m = (2 * size) - 2\n",
    "for i in range(0, size):\n",
    "    for j in range(0, m):\n",
    "        print(end=\" \")\n",
    "    # decrementing m after each loop\n",
    "    m = m - 1\n",
    "    for j in range(0, i + 1):\n",
    "        print(i+1, end=' ')\n",
    "    print(\" \")"
   ]
  },
  {
   "cell_type": "code",
   "execution_count": 5,
   "id": "dd8fbb98",
   "metadata": {},
   "outputs": [
    {
     "name": "stdout",
     "output_type": "stream",
     "text": [
      "Enter size=5\n",
      "        1  \n",
      "       1 2  \n",
      "      1 2 3  \n",
      "     1 2 3 4  \n",
      "    1 2 3 4 5  \n"
     ]
    }
   ],
   "source": [
    "size = int(input(\"Enter size=\"))\n",
    "m = (2 * size) - 2\n",
    "for i in range(0, size):\n",
    "    for j in range(0, m):\n",
    "        print(end=\" \")\n",
    "    # decrementing m after each loop\n",
    "    m = m - 1\n",
    "    for j in range(0, i + 1):\n",
    "        print(j+1, end=' ')\n",
    "    print(\" \")"
   ]
  },
  {
   "cell_type": "code",
   "execution_count": 14,
   "id": "3e541130",
   "metadata": {},
   "outputs": [
    {
     "name": "stdout",
     "output_type": "stream",
     "text": [
      "Enter size=5\n",
      "    *  \n",
      "   * * *  \n",
      "  * * * * *  \n",
      " * * * * * * *  \n",
      "* * * * * * * * *  \n"
     ]
    }
   ],
   "source": [
    "size = int(input(\"Enter size=\"))\n",
    "k=0\n",
    "for i in range(1, size+1):\n",
    "    for j in range(1, (size-i)+1):\n",
    "        print(end=\" \")\n",
    "    while k!=(2*i-1):\n",
    "    \n",
    "        print(\"*\", end=' ')\n",
    "        k+=1\n",
    "    k=0\n",
    "    print(\" \")"
   ]
  },
  {
   "cell_type": "code",
   "execution_count": 15,
   "id": "d7275566",
   "metadata": {},
   "outputs": [
    {
     "name": "stdout",
     "output_type": "stream",
     "text": [
      "Enter size=5\n",
      "    1  \n",
      "   2 2 2  \n",
      "  3 3 3 3 3  \n",
      " 4 4 4 4 4 4 4  \n",
      "5 5 5 5 5 5 5 5 5  \n"
     ]
    }
   ],
   "source": [
    "size = int(input(\"Enter size=\"))\n",
    "k=0\n",
    "for i in range(1, size+1):\n",
    "    for j in range(1, (size-i)+1):\n",
    "        print(end=\" \")\n",
    "    while k!=(2*i-1):\n",
    "    \n",
    "        print(i, end=' ')\n",
    "        k+=1\n",
    "    k=0\n",
    "    print(\" \")"
   ]
  },
  {
   "cell_type": "code",
   "execution_count": 27,
   "id": "f2c0c256",
   "metadata": {},
   "outputs": [
    {
     "name": "stdout",
     "output_type": "stream",
     "text": [
      "Enter size=5\n",
      "        1 \n",
      "      1 2 3 \n",
      "    1 2 3 4 5 \n",
      "  1 2 3 4 5 6 7 \n",
      "1 2 3 4 5 6 7 8 9 \n"
     ]
    }
   ],
   "source": [
    "size = int(input(\"Enter size=\"))\n",
    "k=0\n",
    "for i in range(size):\n",
    "    for j in range(size-i-1):\n",
    "        print(' ',end=\" \")\n",
    "    for k in range (2*i+1):\n",
    "    \n",
    "        print( k+1, end=' ')\n",
    "        \n",
    "    \n",
    "    print( )\n",
    "    \n",
    "    "
   ]
  },
  {
   "cell_type": "code",
   "execution_count": 32,
   "id": "2679339a",
   "metadata": {},
   "outputs": [
    {
     "name": "stdout",
     "output_type": "stream",
     "text": [
      "Enter size=5\n",
      "        * \n",
      "      * * * \n",
      "    * * * * * \n",
      "  * * * * * * * \n",
      "* * * * * * * * * \n"
     ]
    }
   ],
   "source": [
    "size = int(input(\"Enter size=\"))\n",
    "k=0\n",
    "for i in range(size):\n",
    "    for j in range(size-i-1):\n",
    "        print(' ',end=\" \")\n",
    "    for k in range (2*i+1):\n",
    "    \n",
    "        print( \"*\", end=' ')\n",
    "        \n",
    "    \n",
    "    print( )\n",
    "    "
   ]
  },
  {
   "cell_type": "code",
   "execution_count": 20,
   "id": "8f9f0e1d",
   "metadata": {},
   "outputs": [
    {
     "name": "stdout",
     "output_type": "stream",
     "text": [
      "Enter size=5\n",
      "        *  \n",
      "      * *  \n",
      "    * * *  \n",
      "  * * * *  \n",
      "* * * * *  \n"
     ]
    }
   ],
   "source": [
    "size = int(input(\"Enter size=\"))\n",
    "m = (2 * size) - 2\n",
    "for i in range(0, size):\n",
    "    for j in range(0, m):\n",
    "        print(end=\" \")\n",
    "    # decrementing m after each loop\n",
    "    m = m - 2\n",
    "    for j in range(0, i + 1):\n",
    "        print(\"*\", end=' ')\n",
    "    print(\" \")"
   ]
  },
  {
   "cell_type": "code",
   "execution_count": 22,
   "id": "06907912",
   "metadata": {},
   "outputs": [
    {
     "name": "stdout",
     "output_type": "stream",
     "text": [
      "Enter size=5\n",
      "        1  \n",
      "      1 2  \n",
      "    1 2 3  \n",
      "  1 2 3 4  \n",
      "1 2 3 4 5  \n"
     ]
    }
   ],
   "source": [
    "size = int(input(\"Enter size=\"))\n",
    "m = (2 * size) - 2\n",
    "for i in range(0, size):\n",
    "    for j in range(0, m):\n",
    "        print(end=\" \")\n",
    "    # decrementing m after each loop\n",
    "    m = m - 2\n",
    "    for j in range(0, i + 1):\n",
    "        print(j+1, end=' ')\n",
    "    print(\" \")"
   ]
  },
  {
   "cell_type": "code",
   "execution_count": 27,
   "id": "0f3f9b82",
   "metadata": {},
   "outputs": [
    {
     "name": "stdout",
     "output_type": "stream",
     "text": [
      "Enter size=5\n",
      "    4  \n",
      "   3 3 3  \n",
      "  2 2 2 2 2  \n",
      " 1 1 1 1 1 1 1  \n",
      "1 1 1 1 1 1 1 1 1  \n"
     ]
    }
   ],
   "source": [
    "size = int(input(\"Enter size=\"))\n",
    "k=0\n",
    "for i in range(1, size+1):\n",
    "    for j in range(1, (size-i)+1):\n",
    "        print(end=\" \")\n",
    "    while k!=(2*i-1):\n",
    "    \n",
    "        print(j, end=' ')\n",
    "        k+=1\n",
    "    k=0\n",
    "    print(\" \")"
   ]
  },
  {
   "cell_type": "code",
   "execution_count": 34,
   "id": "174a234b",
   "metadata": {},
   "outputs": [
    {
     "name": "stdout",
     "output_type": "stream",
     "text": [
      "Enter the rows=5\n",
      "* * * * * * * \n",
      "  * * * * * \n",
      "    * * * \n",
      "      * \n",
      "        \n"
     ]
    }
   ],
   "source": [
    "s=int(input(\"Enter the rows=\"))\n",
    "for i in range(s):\n",
    "    for j in range(i):\n",
    "        print(' ',end=\" \")\n",
    "    for j in range(2*(n-i)-1):\n",
    "        print(\"*\",end=' ')\n",
    "    print()\n"
   ]
  },
  {
   "cell_type": "code",
   "execution_count": 44,
   "id": "d48ab3ad",
   "metadata": {},
   "outputs": [
    {
     "name": "stdout",
     "output_type": "stream",
     "text": [
      "Enter the rows=5\n",
      "123456789\n",
      " 1234567\n",
      "  12345\n",
      "   123\n",
      "    1\n"
     ]
    }
   ],
   "source": []
  },
  {
   "cell_type": "code",
   "execution_count": 46,
   "id": "56d6ac4d",
   "metadata": {},
   "outputs": [
    {
     "name": "stdout",
     "output_type": "stream",
     "text": [
      "Enter n : 5\n",
      "    1    \n",
      "   232   \n",
      "  34543  \n",
      " 4567654 \n",
      "567898765\n"
     ]
    }
   ],
   "source": [
    "#v\n",
    "def operation(n):\n",
    "    t=1\n",
    "    for i in range(n):\n",
    "        t=i+1\n",
    "        for j in range(n-i-1):\n",
    "            print(' ',end=\"\")\n",
    "        for j in range(i):\n",
    "            print(t,end=\"\")\n",
    "            t+=1\n",
    "        print(t,end=\"\")\n",
    "        t-=1\n",
    "        for j in range(i):\n",
    "            print(t,end=\"\")\n",
    "            t-=1\n",
    "        for j in range(n-i-1):\n",
    "            print(' ',end=\"\")\n",
    "        print()\n",
    "operation(int(input(\"Enter n : \")))"
   ]
  },
  {
   "cell_type": "code",
   "execution_count": 47,
   "id": "6d0e933d",
   "metadata": {},
   "outputs": [
    {
     "name": "stdout",
     "output_type": "stream",
     "text": [
      "Enter n : 5\n",
      "    5    \n",
      "   545   \n",
      "  54345  \n",
      " 5432345 \n",
      "543212345\n"
     ]
    }
   ],
   "source": [
    "#w\n",
    "def operation(n):\n",
    "    t=1\n",
    "    for i in range(n):\n",
    "        t=n\n",
    "        for j in range(n-i-1):\n",
    "            print(' ',end=\"\")\n",
    "        for j in range(i):\n",
    "            print(t,end=\"\")\n",
    "            t-=1\n",
    "        print(t,end=\"\")\n",
    "        t+=1\n",
    "        for j in range(i):\n",
    "            print(t,end=\"\")\n",
    "            t+=1\n",
    "        for j in range(n-i-1):\n",
    "            print(' ',end=\"\")\n",
    "        print()\n",
    "operation(int(input(\"Enter n : \")))"
   ]
  },
  {
   "cell_type": "code",
   "execution_count": 48,
   "id": "cad28553",
   "metadata": {},
   "outputs": [
    {
     "name": "stdout",
     "output_type": "stream",
     "text": [
      "Enter n : 5\n",
      "*********\n",
      " ******* \n",
      "  *****  \n",
      "   ***   \n",
      "    *    \n"
     ]
    }
   ],
   "source": [
    "#x\n",
    "def operation(n):\n",
    "    for i in range(n):\n",
    "        for j in range(i):\n",
    "            print(' ',end=\"\")\n",
    "        for j in range(2*(n-i)-1):\n",
    "            print('*',end=\"\")\n",
    "        for j in range(i):\n",
    "            print(' ',end=\"\")\n",
    "        print()\n",
    "operation(int(input(\"Enter n : \")))"
   ]
  },
  {
   "cell_type": "code",
   "execution_count": 49,
   "id": "3707dc4e",
   "metadata": {},
   "outputs": [
    {
     "name": "stdout",
     "output_type": "stream",
     "text": [
      "Enter n : 5\n",
      "555555555\n",
      " 4444444 \n",
      "  33333  \n",
      "   222   \n",
      "    1    \n"
     ]
    }
   ],
   "source": [
    "#y\n",
    "def operation(n):\n",
    "    for i in range(n):\n",
    "        for j in range(i):\n",
    "            print(' ',end=\"\")\n",
    "        for j in range(2*(n-i)-1):\n",
    "            print(n-i,end=\"\")\n",
    "        for j in range(i):\n",
    "            print(' ',end=\"\")\n",
    "        print()\n",
    "operation(int(input(\"Enter n : \")))\n"
   ]
  },
  {
   "cell_type": "code",
   "execution_count": 50,
   "id": "c143c706",
   "metadata": {},
   "outputs": [
    {
     "name": "stdout",
     "output_type": "stream",
     "text": [
      "Enter the rows=5\n",
      "123456789\n",
      " 1234567\n",
      "  12345\n",
      "   123\n",
      "    1\n"
     ]
    }
   ],
   "source": [
    "#z\n",
    "s=int(input(\"Enter the rows=\"))\n",
    "\n",
    "for i in range(s):\n",
    "    # printing spaces\n",
    "    for j in range(i):\n",
    "        print(' ', end='')\n",
    "    # printing alphabet\n",
    "    for j in range(2*(s-i)-1):\n",
    "        print(j+1, end='')\n",
    "    print()\n",
    "    "
   ]
  },
  {
   "cell_type": "code",
   "execution_count": 51,
   "id": "eeac07d3",
   "metadata": {},
   "outputs": [
    {
     "name": "stdout",
     "output_type": "stream",
     "text": [
      "Enter n : 5\n",
      "567898765\n",
      " 4567654 \n",
      "  34543  \n",
      "   232   \n",
      "    1    \n"
     ]
    }
   ],
   "source": [
    "#z1\n",
    "def operation(n):\n",
    "    for i in range(n):\n",
    "        t=n-i\n",
    "        for j in range(i):\n",
    "            print(' ',end=\"\")\n",
    "        for j in range(n-i-1):\n",
    "            print(t,end=\"\")\n",
    "            t+=1\n",
    "        print(t,end=\"\")\n",
    "        t-=1\n",
    "        for j in range(n-i-1):\n",
    "            print(t,end=\"\")\n",
    "            t-=1\n",
    "        for j in range(i):\n",
    "            print(' ',end=\"\")\n",
    "        print()\n",
    "operation(int(input(\"Enter n : \")))"
   ]
  },
  {
   "cell_type": "code",
   "execution_count": 52,
   "id": "0b0cc007",
   "metadata": {},
   "outputs": [
    {
     "name": "stdout",
     "output_type": "stream",
     "text": [
      "Enter n : 5\n",
      "543212345\n",
      " 5432345 \n",
      "  54345  \n",
      "   545   \n",
      "    5    \n"
     ]
    }
   ],
   "source": [
    "#z2\n",
    "def operation(n):\n",
    "    for i in range(n):\n",
    "        t=n\n",
    "        for j in range(i):\n",
    "            print(' ',end=\"\")\n",
    "        for j in range(n-i-1):\n",
    "            print(t,end=\"\")\n",
    "            t-=1\n",
    "        print(t,end=\"\")\n",
    "        t+=1\n",
    "        for j in range(n-i-1):\n",
    "            print(t,end=\"\")\n",
    "            t+=1\n",
    "        for j in range(i):\n",
    "            print(' ',end=\"\")\n",
    "        print()\n",
    "operation(int(input(\"Enter n : \")))"
   ]
  },
  {
   "cell_type": "markdown",
   "id": "68419f96",
   "metadata": {},
   "source": [
    "### 4 ##\n"
   ]
  },
  {
   "cell_type": "code",
   "execution_count": 53,
   "id": "7bec114b",
   "metadata": {},
   "outputs": [
    {
     "name": "stdout",
     "output_type": "stream",
     "text": [
      "Enter n : 5\n",
      "    *    \n",
      "   ***   \n",
      "  *****  \n",
      " ******* \n",
      "*********\n",
      " ******* \n",
      "  *****  \n",
      "   ***   \n",
      "    *    \n"
     ]
    }
   ],
   "source": [
    "#z3\n",
    "def operation(n):\n",
    "        for i in range(n):\n",
    "            for j in range(n-i-1):\n",
    "                print(\" \",end=\"\")\n",
    "            for j in range(2*i+1):\n",
    "                print('*',end=\"\")\n",
    "            for j in range(n-i-1):\n",
    "                print(\" \",end=\"\")\n",
    "            print()\n",
    "        for i in range(1,n):\n",
    "            for j in range(i):\n",
    "                print(' ',end=\"\")\n",
    "            for j in range(2*(n-i)-1):\n",
    "                print('*',end=\"\")\n",
    "            for j in range(i):\n",
    "                print(' ',end=\"\")\n",
    "            print()\n",
    "operation(int(input(\"Enter n : \")))"
   ]
  },
  {
   "cell_type": "code",
   "execution_count": 54,
   "id": "384f42d9",
   "metadata": {},
   "outputs": [
    {
     "name": "stdout",
     "output_type": "stream",
     "text": [
      "Enter n : 5\n",
      "    1    \n",
      "   222   \n",
      "  33333  \n",
      " 4444444 \n",
      "555555555\n",
      " 4444444 \n",
      "  33333  \n",
      "   222   \n",
      "    1    \n"
     ]
    }
   ],
   "source": [
    "#z4\n",
    "def operation(n):\n",
    "        for i in range(n):\n",
    "            for j in range(n-i-1):\n",
    "                print(\" \",end=\"\")\n",
    "            for j in range(2*i+1):\n",
    "                print(i+1,end=\"\")\n",
    "            for j in range(n-i-1):\n",
    "                print(\" \",end=\"\")\n",
    "            print()\n",
    "        for i in range(1,n):\n",
    "            for j in range(i):\n",
    "                print(' ',end=\"\")\n",
    "            for j in range(2*(n-i)-1):\n",
    "                print(n-i,end=\"\")\n",
    "            for j in range(i):\n",
    "                print(' ',end=\"\")\n",
    "            print()\n",
    "operation(int(input(\"Enter n : \")))"
   ]
  },
  {
   "cell_type": "code",
   "execution_count": 55,
   "id": "05a23541",
   "metadata": {},
   "outputs": [
    {
     "name": "stdout",
     "output_type": "stream",
     "text": [
      "Enter n : 5\n",
      "    1    \n",
      "   123   \n",
      "  12345  \n",
      " 1234567 \n",
      "123456789\n",
      " 1234567 \n",
      "  12345  \n",
      "   123   \n",
      "    1    \n"
     ]
    }
   ],
   "source": [
    "#z5\n",
    "def operation(n):\n",
    "        for i in range(n):\n",
    "            for j in range(n-i-1):\n",
    "                print(\" \",end=\"\")\n",
    "            for j in range(2*i+1):\n",
    "                print(j+1,end=\"\")\n",
    "            for j in range(n-i-1):\n",
    "                print(\" \",end=\"\")\n",
    "            print()\n",
    "        for i in range(1,n):\n",
    "            for j in range(i):\n",
    "                print(' ',end=\"\")\n",
    "            for j in range(2*(n-i)-1):\n",
    "                print(j+1,end=\"\")\n",
    "            for j in range(i):\n",
    "                print(' ',end=\"\")\n",
    "            print()\n",
    "operation(int(input(\"Enter n : \")))"
   ]
  },
  {
   "cell_type": "code",
   "execution_count": 56,
   "id": "49b22229",
   "metadata": {},
   "outputs": [
    {
     "name": "stdout",
     "output_type": "stream",
     "text": [
      "Enter n : 5\n",
      "    1    \n",
      "   232   \n",
      "  34543  \n",
      " 4567654 \n",
      "567898765\n",
      " 4567654 \n",
      "  34543  \n",
      "   232   \n",
      "    1    \n"
     ]
    }
   ],
   "source": [
    "def operation(n):\n",
    "    t=1\n",
    "    for i in range(n):\n",
    "        t=i+1\n",
    "        for j in range(n-i-1):\n",
    "            print(' ',end=\"\")\n",
    "        for j in range(i):\n",
    "            print(t,end=\"\")\n",
    "            t+=1\n",
    "        print(t,end=\"\")\n",
    "        t-=1\n",
    "        for j in range(i):\n",
    "            print(t,end=\"\")\n",
    "            t-=1\n",
    "        for j in range(n-i-1):\n",
    "            print(' ',end=\"\")\n",
    "        print()\n",
    "    for i in range(1,n):\n",
    "        t=n-i\n",
    "        for j in range(i):\n",
    "            print(' ',end=\"\")\n",
    "        for j in range(n-i-1):\n",
    "            print(t,end=\"\")\n",
    "            t+=1\n",
    "        print(t,end=\"\")\n",
    "        t-=1\n",
    "        for j in range(n-i-1):\n",
    "            print(t,end=\"\")\n",
    "            t-=1\n",
    "        for j in range(i):\n",
    "            print(' ',end=\"\")\n",
    "        print()\n",
    "operation(int(input(\"Enter n : \")))"
   ]
  },
  {
   "cell_type": "code",
   "execution_count": 57,
   "id": "39e3a5d5",
   "metadata": {},
   "outputs": [
    {
     "name": "stdout",
     "output_type": "stream",
     "text": [
      "Enter n : 5\n",
      "    5    \n",
      "   545   \n",
      "  54345  \n",
      " 5432345 \n",
      "543212345\n",
      " 5432345 \n",
      "  54345  \n",
      "   545   \n",
      "    5    \n"
     ]
    }
   ],
   "source": [
    "#z7\n",
    "def operation(n):\n",
    "    t=1\n",
    "    for i in range(n):\n",
    "        t=n\n",
    "        for j in range(n-i-1):\n",
    "            print(' ',end=\"\")\n",
    "        for j in range(i):\n",
    "            print(t,end=\"\")\n",
    "            t-=1\n",
    "        print(t,end=\"\")\n",
    "        t+=1\n",
    "        for j in range(i):\n",
    "            print(t,end=\"\")\n",
    "            t+=1\n",
    "        for j in range(n-i-1):\n",
    "            print(' ',end=\"\")\n",
    "        print()\n",
    "    for i in range(1,n):\n",
    "        t=n\n",
    "        for j in range(i):\n",
    "            print(' ',end=\"\")\n",
    "        for j in range(n-i-1):\n",
    "            print(t,end=\"\")\n",
    "            t-=1\n",
    "        print(t,end=\"\")\n",
    "        t+=1\n",
    "        for j in range(n-i-1):\n",
    "            print(t,end=\"\")\n",
    "            t+=1\n",
    "        for j in range(i):\n",
    "            print(' ',end=\"\")\n",
    "        print()\n",
    "operation(int(input(\"Enter n : \")))"
   ]
  },
  {
   "cell_type": "code",
   "execution_count": 59,
   "id": "c80ff70a",
   "metadata": {},
   "outputs": [
    {
     "name": "stdout",
     "output_type": "stream",
     "text": [
      "Enter size=7\n",
      "* * * * * * * \n",
      "* * * * * * * \n",
      "* * * * * * * \n",
      "* * * * * * * \n",
      "* * * * * * * \n",
      "* * * * * * * \n",
      "* * * * * * * \n"
     ]
    }
   ],
   "source": [
    "size = int(input(\"Enter size=\"))\n",
    "for i in range(size):\n",
    "    for i in range(size):\n",
    "        print('*', end = ' ')\n",
    "    print()"
   ]
  },
  {
   "cell_type": "code",
   "execution_count": 60,
   "id": "247dfe39",
   "metadata": {},
   "outputs": [
    {
     "name": "stdout",
     "output_type": "stream",
     "text": [
      "Enter the size=7\n",
      "*******\n",
      "*     *\n",
      "*     *\n",
      "*     *\n",
      "*     *\n",
      "*     *\n",
      "*******\n"
     ]
    }
   ],
   "source": [
    "size=int(input(\"Enter the size=\"))\n",
    "for i in range(size):\n",
    "    for j in range(size):\n",
    "        print('*' if i in [0, size-1] or j in [0, size-1] else ' ', end='')\n",
    "    print()"
   ]
  },
  {
   "cell_type": "code",
   "execution_count": 61,
   "id": "4286c32f",
   "metadata": {},
   "outputs": [
    {
     "name": "stdout",
     "output_type": "stream",
     "text": [
      "Enter n : 7\n",
      "\\*****/\n",
      "*\\***/*\n",
      "**\\*/**\n",
      "***\\***\n",
      "**/*\\**\n",
      "*/***\\*\n",
      "/*****\\\n"
     ]
    }
   ],
   "source": [
    "def operation(n):\n",
    "    for i in range(n):\n",
    "        for j in range(n):\n",
    "            if(j==i):\n",
    "                print('\\\\',end=\"\")\n",
    "            elif(j==n-i-1):\n",
    "                print('/',end=\"\")\n",
    "            else:\n",
    "                print('*',end=\"\")\n",
    "        print()\n",
    "operation(int(input(\"Enter n : \")))"
   ]
  },
  {
   "cell_type": "markdown",
   "id": "9ca7e17b",
   "metadata": {},
   "source": [
    "### 5"
   ]
  },
  {
   "cell_type": "code",
   "execution_count": 1,
   "id": "fc598e5d",
   "metadata": {},
   "outputs": [
    {
     "name": "stdout",
     "output_type": "stream",
     "text": [
      "Enter n  : 11\n",
      "---------------.|.---------------\n",
      "------------.|..|..|.------------\n",
      "---------.|..|..|..|..|.---------\n",
      "------.|..|..|..|..|..|..|.------\n",
      "---.|..|..|..|..|..|..|..|..|.---\n",
      "-------------WELCOME-------------\n",
      "---.|..|..|..|..|..|..|..|..|.---\n",
      "------.|..|..|..|..|..|..|.------\n",
      "---------.|..|..|..|..|.---------\n",
      "------------.|..|..|.------------\n",
      "---------------.|.---------------\n"
     ]
    }
   ],
   "source": [
    "def operation(n):\n",
    "    for i in range(n//2):\n",
    "        print('-'*(3*(n-2*i-1)//2),end=\"\")\n",
    "        print('.|.'*(2*i+1),end=\"\")\n",
    "        print('-'*(3*(n-2*i-1)//2))\n",
    "    print('-'*((3*n-7)//2)+'WELCOME'+'-'*((3*n-7)//2))\n",
    "    for i in range(n//2):\n",
    "        print('-'*(3*(n-2*(n//2)+2*i+1)//2),end=\"\")\n",
    "        print('.|.'*(2*(n//2)-2*i-1),end=\"\")\n",
    "        print('-'*(3*(n-2*(n//2)+2*i+1)//2))\n",
    "operation(int(input(\"Enter n  : \")))"
   ]
  },
  {
   "cell_type": "code",
   "execution_count": 2,
   "id": "60340bf1",
   "metadata": {},
   "outputs": [
    {
     "name": "stdout",
     "output_type": "stream",
     "text": [
      "Enter n  : 10\n",
      "------------------j------------------\n",
      "----------------j-i-j----------------\n",
      "--------------j-i-h-i-j--------------\n",
      "------------j-i-h-g-h-i-j------------\n",
      "----------j-i-h-g-f-g-h-i-j----------\n",
      "--------j-i-h-g-f-e-f-g-h-i-j--------\n",
      "------j-i-h-g-f-e-d-e-f-g-h-i-j------\n",
      "----j-i-h-g-f-e-d-c-d-e-f-g-h-i-j----\n",
      "--j-i-h-g-f-e-d-c-b-c-d-e-f-g-h-i-j--\n",
      "j-i-h-g-f-e-d-c-b-a-b-c-d-e-f-g-h-i-j\n",
      "--j-i-h-g-f-e-d-c-b-c-d-e-f-g-h-i-j--\n",
      "----j-i-h-g-f-e-d-c-d-e-f-g-h-i-j----\n",
      "------j-i-h-g-f-e-d-e-f-g-h-i-j------\n",
      "--------j-i-h-g-f-e-f-g-h-i-j--------\n",
      "----------j-i-h-g-f-g-h-i-j----------\n",
      "------------j-i-h-g-h-i-j------------\n",
      "--------------j-i-h-i-j--------------\n",
      "----------------j-i-j----------------\n",
      "------------------j------------------\n"
     ]
    }
   ],
   "source": [
    "def operation(n):\n",
    "    f=0\n",
    "    for i in range(n):\n",
    "        print('-'*(2*n-2*i-2),end=\"\")\n",
    "        t=0\n",
    "        for j in range(4*i+1):\n",
    "            if(j%2):\n",
    "                print('-',end=\"\")\n",
    "                continue\n",
    "            else:\n",
    "                if(t>i):\n",
    "                    f=1\n",
    "                if(f):\n",
    "                    t-=1\n",
    "                else:\n",
    "                    t+=1\n",
    "                print(chr(96+n-t+1),end=\"\")\n",
    "        f=0\n",
    "        print('-'*(2*n-2*i-2))\n",
    "\n",
    "    f=0\n",
    "    for i in range(1,n):\n",
    "        print('-'*(2*i),end=\"\")\n",
    "        t=0\n",
    "        for j in range(4*n-3-4*i):\n",
    "            if(j%2):\n",
    "                print('-',end=\"\")\n",
    "                continue\n",
    "            else:\n",
    "                if(t>n-i-1):\n",
    "                    f=1\n",
    "                if(f):\n",
    "                    t-=1\n",
    "                else:\n",
    "                    t+=1\n",
    "                print(chr(96+n-t+1),end=\"\")\n",
    "        f=0\n",
    "        print('-'*(2*i))\n",
    "        \n",
    "operation(int(input(\"Enter n  : \")))"
   ]
  },
  {
   "cell_type": "code",
   "execution_count": null,
   "id": "86f4fe63",
   "metadata": {},
   "outputs": [],
   "source": []
  }
 ],
 "metadata": {
  "kernelspec": {
   "display_name": "Python 3 (ipykernel)",
   "language": "python",
   "name": "python3"
  },
  "language_info": {
   "codemirror_mode": {
    "name": "ipython",
    "version": 3
   },
   "file_extension": ".py",
   "mimetype": "text/x-python",
   "name": "python",
   "nbconvert_exporter": "python",
   "pygments_lexer": "ipython3",
   "version": "3.10.9"
  }
 },
 "nbformat": 4,
 "nbformat_minor": 5
}
