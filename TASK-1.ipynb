{
 "cells": [
  {
   "cell_type": "markdown",
   "id": "98acfa0b",
   "metadata": {},
   "source": [
    "## 1"
   ]
  },
  {
   "cell_type": "markdown",
   "id": "32d29d7c",
   "metadata": {},
   "source": [
    "Install Python on your Local Operating System \n",
    "\n",
    "https://youtu.be/M5ILgNI0iXw (python installation) \n",
    "\n",
    "https://youtu.be/SBOFnzVuzOE (vim Editor) \n",
    "    \n",
    "    'Done'"
   ]
  },
  {
   "cell_type": "markdown",
   "id": "99649db3",
   "metadata": {},
   "source": [
    "## 2"
   ]
  },
  {
   "cell_type": "markdown",
   "id": "33d07607",
   "metadata": {},
   "source": [
    "List Some Mega Projects Hosted in Python \n",
    "\n",
    "Ans:-\n",
    "Database Projects: Management Systems (Library, Hotel, Hospital, School) \n",
    "\n",
    "ML Projects: Classification \n",
    "\n",
    "AI Projects: Chatbots, face detection and recognition, speech recognition, Security \n",
    "\n",
    "Data Science Projects: Global Terrorism Analysis, Call Data Record Analysis "
   ]
  },
  {
   "cell_type": "markdown",
   "id": "2d780de9",
   "metadata": {},
   "source": [
    "## 3"
   ]
  },
  {
   "cell_type": "markdown",
   "id": "26d8d08f",
   "metadata": {},
   "source": [
    "List Python Libraries Used in Different IT Domains \n",
    "Ans:- \n",
    "Pandas, numpy, matplotlib, tkinter, sklearn, tensorflow,Keras,Eli5,SciPy,PyTorch."
   ]
  },
  {
   "cell_type": "markdown",
   "id": "58fb9c49",
   "metadata": {},
   "source": [
    "## 4"
   ]
  },
  {
   "cell_type": "code",
   "execution_count": 5,
   "id": "ba63b429",
   "metadata": {},
   "outputs": [
    {
     "name": "stdout",
     "output_type": "stream",
     "text": [
      "Hello World\n",
      "Sum is : 50\n"
     ]
    }
   ],
   "source": [
    "print(\"Hello World\") \n",
    "\n",
    "a = 45 \n",
    "\n",
    "b = 5 \n",
    "\n",
    "c = a+b \n",
    "\n",
    "print(f\"Sum is : {c}\") "
   ]
  },
  {
   "cell_type": "code",
   "execution_count": null,
   "id": "89727e81",
   "metadata": {},
   "outputs": [],
   "source": []
  }
 ],
 "metadata": {
  "kernelspec": {
   "display_name": "Python 3 (ipykernel)",
   "language": "python",
   "name": "python3"
  },
  "language_info": {
   "codemirror_mode": {
    "name": "ipython",
    "version": 3
   },
   "file_extension": ".py",
   "mimetype": "text/x-python",
   "name": "python",
   "nbconvert_exporter": "python",
   "pygments_lexer": "ipython3",
   "version": "3.10.9"
  }
 },
 "nbformat": 4,
 "nbformat_minor": 5
}
