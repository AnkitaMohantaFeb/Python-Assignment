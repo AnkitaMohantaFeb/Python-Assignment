{
 "cells": [
  {
   "cell_type": "markdown",
   "id": "69e8b516",
   "metadata": {},
   "source": [
    "## 1\n"
   ]
  },
  {
   "cell_type": "code",
   "execution_count": 2,
   "id": "29196c29",
   "metadata": {},
   "outputs": [
    {
     "name": "stdout",
     "output_type": "stream",
     "text": [
      "Enter the num 456\n",
      "6\n"
     ]
    }
   ],
   "source": [
    "import math\n",
    " \n",
    "def digSum( n):\n",
    "    sum = 0\n",
    "     \n",
    "    while(n > 0 or sum > 9):\n",
    "     \n",
    "        if(n == 0):\n",
    "            n = sum\n",
    "            sum = 0\n",
    "         \n",
    "        sum += n % 10\n",
    "        n //= 10\n",
    "     \n",
    "    return sum\n",
    " \n",
    "\n",
    "n = int(input(\"Enter the num \"))\n",
    "print (digSum(n))"
   ]
  },
  {
   "cell_type": "markdown",
   "id": "45609fdb",
   "metadata": {},
   "source": [
    "## 2"
   ]
  },
  {
   "cell_type": "code",
   "execution_count": 5,
   "id": "af781e9d",
   "metadata": {},
   "outputs": [
    {
     "name": "stdout",
     "output_type": "stream",
     "text": [
      "Enter Two Numbers: \n",
      "3 \n",
      "4\n",
      "\n",
      "LCM = 12\n",
      "\n",
      "HCF (3, 4) =  1\n"
     ]
    }
   ],
   "source": [
    "print(\"Enter Two Numbers: \")\n",
    "n1 = int(input())\n",
    "n2 = int(input())\n",
    "\n",
    "if n1>n2:\n",
    "    lcm = n1\n",
    "else:\n",
    "    lcm = n2\n",
    "\n",
    "while True:\n",
    "    if lcm%n1==0 and lcm%n2==0:\n",
    "        break\n",
    "    else:\n",
    "        lcm = lcm + 1\n",
    "\n",
    "print(\"\\nLCM =\", lcm)\n",
    "\n",
    "if n1>n2:\n",
    "    hcf = n1\n",
    "else:\n",
    "    hcf = n2\n",
    "\n",
    "while True:\n",
    "    if n1%hcf==0 and n2%hcf==0:\n",
    "        break\n",
    "    else:\n",
    "        hcf = hcf - 1\n",
    "\n",
    "print(\"\\nHCF (\" + str(n1) + \", \" + str(n2) + \") = \", hcf)"
   ]
  },
  {
   "cell_type": "markdown",
   "id": "9ecb7adb",
   "metadata": {},
   "source": [
    "## 3\n"
   ]
  },
  {
   "cell_type": "code",
   "execution_count": 9,
   "id": "d3de85a6",
   "metadata": {},
   "outputs": [
    {
     "name": "stdout",
     "output_type": "stream",
     "text": [
      "Enter a number: 5\n",
      "Using a loop:\n",
      "The cube of 3 is 27\n"
     ]
    }
   ],
   "source": [
    "n = int(input(\"Enter a number: \"))\n",
    "for num in range(1, n + 1):\n",
    "    if num % 3 != 0:\n",
    "        continue\n",
    "    cube = num ** 3\n",
    "    print(f\"The cube of {num} is {cube}\")"
   ]
  },
  {
   "cell_type": "markdown",
   "id": "c2de0792",
   "metadata": {},
   "source": [
    "## 4"
   ]
  },
  {
   "cell_type": "code",
   "execution_count": 15,
   "id": "45f37714",
   "metadata": {},
   "outputs": [
    {
     "name": "stdout",
     "output_type": "stream",
     "text": [
      "\n",
      "Student 1:\n",
      "Enter the roll number (1000-9999): 4567\n",
      "Enter marks for subject 1: 67\n",
      "Enter marks for subject 2: 78\n",
      "Enter marks for subject 3: 89\n",
      "\n",
      "Student 2:\n",
      "Enter the roll number (1000-9999): 2435\n",
      "Enter marks for subject 1: 56\n",
      "Enter marks for subject 2: 34\n",
      "\n",
      "Student 3:\n",
      "Enter the roll number (1000-9999): 2563\n",
      "Enter marks for subject 1: 90\n",
      "Enter marks for subject 2: 35\n",
      "\n",
      "Student 4:\n",
      "Enter the roll number (1000-9999): 3647\n",
      "Enter marks for subject 1: 89\n",
      "Enter marks for subject 2: 90\n",
      "Enter marks for subject 3: 98\n",
      "\n",
      "Student 5:\n",
      "Enter the roll number (1000-9999): 6744\n",
      "Enter marks for subject 1: 49\n",
      "Enter marks for subject 2: 48\n",
      "Enter marks for subject 3: 90\n",
      "\n",
      "Student 6:\n",
      "Enter the roll number (1000-9999): 3525\n",
      "Enter marks for subject 1: 95\n",
      "Enter marks for subject 2: 31\n",
      "\n",
      "Student 7:\n",
      "Enter the roll number (1000-9999): 3211\n",
      "Enter marks for subject 1: 57\n",
      "Enter marks for subject 2: 58\n",
      "Enter marks for subject 3: 58\n",
      "\n",
      "Student 8:\n",
      "Enter the roll number (1000-9999): 6611\n",
      "Enter marks for subject 1: 66\n",
      "Enter marks for subject 2: 66\n",
      "Enter marks for subject 3: 78\n",
      "\n",
      "Student 9:\n",
      "Enter the roll number (1000-9999): 9876\n",
      "Enter marks for subject 1: 98\n",
      "Enter marks for subject 2: 98\n",
      "Enter marks for subject 3: 98\n",
      "\n",
      "Student 10:\n",
      "Enter the roll number (1000-9999): 1001\n",
      "Enter marks for subject 1: 44\n",
      "Enter marks for subject 2: 99\n",
      "Enter marks for subject 3: 79\n",
      "\n",
      "Results:\n",
      "Number of students with total marks more than 200: 5\n",
      "Roll number of the student with the highest total marks: 9876\n"
     ]
    }
   ],
   "source": [
    "def get_valid_roll_number():\n",
    "    while True:\n",
    "        roll_number = int(input(\"Enter the roll number (1000-9999): \"))\n",
    "        if 1000 <= roll_number <= 9999:\n",
    "            return roll_number\n",
    "        else:\n",
    "            print(\"Invalid roll number. Please enter again.\")\n",
    "\n",
    "# Initialize variables\n",
    "total_students = 10\n",
    "total_marks_more_than_200 = 0\n",
    "highest_total = 0\n",
    "highest_total_roll_number = None\n",
    "\n",
    "# Initialize counters\n",
    "count_students_more_than_200 = 0\n",
    "\n",
    "# Calculate total marks for each student\n",
    "for student in range(total_students):\n",
    "    print(f\"\\nStudent {student+1}:\")\n",
    "    roll_number = get_valid_roll_number()\n",
    "    marks_total = 0\n",
    "\n",
    "    # Calculate total marks for 3 subjects\n",
    "    for subject in range(1, 4):\n",
    "        marks = int(input(f\"Enter marks for subject {subject}: \"))\n",
    "        if marks >= 40:\n",
    "            marks_total += marks\n",
    "        else:\n",
    "            marks_total = 0\n",
    "            break\n",
    "\n",
    "    if marks_total > 200:\n",
    "        count_students_more_than_200 += 1\n",
    "\n",
    "    if marks_total > highest_total:\n",
    "        highest_total = marks_total\n",
    "        highest_total_roll_number = roll_number\n",
    "\n",
    "# Display the results\n",
    "print(\"\\nResults:\")\n",
    "print(f\"Number of students with total marks more than 200: {count_students_more_than_200}\")\n",
    "print(f\"Roll number of the student with the highest total marks: {highest_total_roll_number}\")\n",
    "\n"
   ]
  },
  {
   "cell_type": "markdown",
   "id": "29042c55",
   "metadata": {},
   "source": [
    "## 5"
   ]
  },
  {
   "cell_type": "code",
   "execution_count": 16,
   "id": "ce5f6f06",
   "metadata": {},
   "outputs": [
    {
     "name": "stdout",
     "output_type": "stream",
     "text": [
      "Enter number:5608\n",
      "The number of digits in the number are: 4\n"
     ]
    }
   ],
   "source": [
    "n=int(input(\"Enter number:\"))\n",
    "count=0\n",
    "while(n>0):\n",
    "    count=count+1\n",
    "    n=n//10\n",
    "print(\"The number of digits in the number are:\",count)"
   ]
  },
  {
   "cell_type": "markdown",
   "id": "47a52b3f",
   "metadata": {},
   "source": [
    "## 6"
   ]
  },
  {
   "cell_type": "code",
   "execution_count": 17,
   "id": "990117b3",
   "metadata": {},
   "outputs": [
    {
     "name": "stdout",
     "output_type": "stream",
     "text": [
      "Please Enter any Number: 56\n",
      " Reverse of entered number is 65and double of it is 130 \n"
     ]
    }
   ],
   "source": [
    "Number = int(input(\"Please Enter any Number: \"))    \n",
    "Reverse = 0    \n",
    "while(Number > 0):    \n",
    "    Reminder = Number %10    \n",
    "    Reverse = (Reverse *10) + Reminder    \n",
    "    Number = Number //10    \n",
    "    \n",
    "    double_rev=Reverse*2\n",
    "print(f\" Reverse of entered number is {Reverse}and double of it is {double_rev} \" )  "
   ]
  },
  {
   "cell_type": "code",
   "execution_count": null,
   "id": "acd7fdc1",
   "metadata": {},
   "outputs": [],
   "source": []
  }
 ],
 "metadata": {
  "kernelspec": {
   "display_name": "Python 3 (ipykernel)",
   "language": "python",
   "name": "python3"
  },
  "language_info": {
   "codemirror_mode": {
    "name": "ipython",
    "version": 3
   },
   "file_extension": ".py",
   "mimetype": "text/x-python",
   "name": "python",
   "nbconvert_exporter": "python",
   "pygments_lexer": "ipython3",
   "version": "3.10.9"
  }
 },
 "nbformat": 4,
 "nbformat_minor": 5
}
