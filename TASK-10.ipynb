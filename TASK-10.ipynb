{
 "cells": [
  {
   "cell_type": "code",
   "execution_count": 16,
   "id": "5db6e80c",
   "metadata": {},
   "outputs": [
    {
     "name": "stdout",
     "output_type": "stream",
     "text": [
      "Enter num= 121\n",
      "Palindrome\n"
     ]
    }
   ],
   "source": [
    "num = int(input(\"Enter num= \"))\n",
    "temp = num\n",
    "reverse = 0\n",
    "while temp > 0:\n",
    "    remainder = temp % 10\n",
    "    reverse = (reverse * 10) + remainder\n",
    "    temp = temp // 10\n",
    "if num == reverse:\n",
    "  print('Palindrome')\n",
    "else:\n",
    "  print(\"Not Palindrome\")"
   ]
  },
  {
   "cell_type": "code",
   "execution_count": 4,
   "id": "cb213ece",
   "metadata": {},
   "outputs": [
    {
     "name": "stdout",
     "output_type": "stream",
     "text": [
      "enter no: 90\n",
      "15\n",
      "30\n",
      "45\n",
      "60\n",
      "75\n"
     ]
    }
   ],
   "source": [
    "N=int(input(\"enter no: \"))\n",
    "for N in range (1,N):\n",
    "  if(N%3==0 and N%5==0):\n",
    "   print(N)\n",
    " "
   ]
  },
  {
   "cell_type": "code",
   "execution_count": 27,
   "id": "898a956a",
   "metadata": {},
   "outputs": [
    {
     "name": "stdout",
     "output_type": "stream",
     "text": [
      "enter no: 4\n",
      "The factorial of 4 is 24\n"
     ]
    }
   ],
   "source": [
    "#Python Program to Find the Factorial of a Number\n",
    "N=int(input(\"enter no: \"))\n",
    "factorial=1\n",
    "for i in range(1,N + 1):    \n",
    "       factorial = factorial*i    \n",
    "print(f\"The factorial of {N} is {factorial}\")   "
   ]
  },
  {
   "cell_type": "code",
   "execution_count": 28,
   "id": "3fd47523",
   "metadata": {},
   "outputs": [
    {
     "name": "stdout",
     "output_type": "stream",
     "text": [
      "enter no: 4\n",
      "0\n",
      "1\n",
      "1\n",
      "2\n"
     ]
    }
   ],
   "source": [
    "#Python Program to Print the Fibonacci sequence\n",
    "N=int(input(\"enter no: \"))\n",
    "i_1=0\n",
    "i_2=1\n",
    "for i in range (1,N+1):\n",
    " print(i_1)\n",
    " ith=i_1+i_2\n",
    " i_1=i_2\n",
    " i_2=ith\n",
    " "
   ]
  },
  {
   "cell_type": "code",
   "execution_count": 29,
   "id": "f4ac28c5",
   "metadata": {},
   "outputs": [
    {
     "name": "stdout",
     "output_type": "stream",
     "text": [
      "enter no: 12\n",
      "12 is an not Armstrong Number\n"
     ]
    }
   ],
   "source": [
    "#Python Program to Check Armstrong Number \n",
    "N=int(input(\"enter no: \"))\n",
    "l=len(str(N))\n",
    "sum=0\n",
    "temp=N\n",
    "while(temp>0):\n",
    "  digit=temp%10\n",
    "  sum+= digit**l\n",
    "  temp//=10\n",
    "if(sum==N):\n",
    " print(f\"{N} is an Armstrong Number\")\n",
    "else:\n",
    " print(f\"{N} is an not Armstrong Number\")\n",
    "\n",
    "\n",
    "   \n",
    "      "
   ]
  },
  {
   "cell_type": "code",
   "execution_count": null,
   "id": "40328860",
   "metadata": {},
   "outputs": [],
   "source": []
  }
 ],
 "metadata": {
  "kernelspec": {
   "display_name": "Python 3 (ipykernel)",
   "language": "python",
   "name": "python3"
  },
  "language_info": {
   "codemirror_mode": {
    "name": "ipython",
    "version": 3
   },
   "file_extension": ".py",
   "mimetype": "text/x-python",
   "name": "python",
   "nbconvert_exporter": "python",
   "pygments_lexer": "ipython3",
   "version": "3.10.9"
  }
 },
 "nbformat": 4,
 "nbformat_minor": 5
}
