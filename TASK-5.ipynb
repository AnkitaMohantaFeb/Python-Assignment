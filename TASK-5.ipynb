{
 "cells": [
  {
   "cell_type": "markdown",
   "id": "63dee370",
   "metadata": {},
   "source": [
    "## 1"
   ]
  },
  {
   "cell_type": "markdown",
   "id": "e9a00281",
   "metadata": {},
   "source": [
    "A shallow copy creates a new object which stores the reference of the original elements.\n",
    "A deep copy creates a new object and recursively adds the copies of nested objects present in the original elements."
   ]
  },
  {
   "cell_type": "markdown",
   "id": "47a75e5c",
   "metadata": {},
   "source": [
    "## 2"
   ]
  },
  {
   "cell_type": "markdown",
   "id": "fd6fe685",
   "metadata": {},
   "source": [
    "2)'You want to create a library management application, you need to \n",
    "store data about books, students in your program, how will you store data inside\n",
    "python using list? Create some lists with fake data to store information about library management '\n"
   ]
  },
  {
   "cell_type": "code",
   "execution_count": 2,
   "id": "69d70766",
   "metadata": {},
   "outputs": [],
   "source": [
    "Library=['Book Title','Cost','Page-No','B.tech-Branch']"
   ]
  },
  {
   "cell_type": "code",
   "execution_count": 7,
   "id": "cf993d22",
   "metadata": {},
   "outputs": [
    {
     "name": "stdout",
     "output_type": "stream",
     "text": [
      "['Book Title', 'Cost', 'Page-No', 'B.tech-Branch']\n"
     ]
    }
   ],
   "source": [
    "print(Library)"
   ]
  },
  {
   "cell_type": "markdown",
   "id": "0f5a2a9c",
   "metadata": {},
   "source": [
    "## 3"
   ]
  },
  {
   "cell_type": "markdown",
   "id": "f5567716",
   "metadata": {},
   "source": [
    "A statement is a complete line of code that performs some action, \n",
    "while an expression is any section of the code that evaluates to a value. "
   ]
  },
  {
   "cell_type": "markdown",
   "id": "af47c479",
   "metadata": {},
   "source": [
    "## 4"
   ]
  },
  {
   "cell_type": "raw",
   "id": "78c5de65",
   "metadata": {},
   "source": [
    "Atomic data types / Primary data types - a single, indivisible unit of data.(e.g-int,float,boolean,double)\n",
    "Secondary data type / User Defined Data Type -Secondary data types are formed by combining two or more primary data types."
   ]
  },
  {
   "cell_type": "markdown",
   "id": "1e659948",
   "metadata": {},
   "source": [
    "## 5"
   ]
  },
  {
   "cell_type": "markdown",
   "id": "b620661d",
   "metadata": {},
   "source": [
    "UDT-a data type that derived from an existing data type. You can use UDTs to extend the built-in types already available and create your own customized data types."
   ]
  }
 ],
 "metadata": {
  "kernelspec": {
   "display_name": "Python 3 (ipykernel)",
   "language": "python",
   "name": "python3"
  },
  "language_info": {
   "codemirror_mode": {
    "name": "ipython",
    "version": 3
   },
   "file_extension": ".py",
   "mimetype": "text/x-python",
   "name": "python",
   "nbconvert_exporter": "python",
   "pygments_lexer": "ipython3",
   "version": "3.10.9"
  }
 },
 "nbformat": 4,
 "nbformat_minor": 5
}
