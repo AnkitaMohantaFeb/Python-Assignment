{
 "cells": [
  {
   "cell_type": "markdown",
   "id": "1cabb94f",
   "metadata": {},
   "source": [
    "## 1"
   ]
  },
  {
   "cell_type": "code",
   "execution_count": 7,
   "id": "616e5933",
   "metadata": {},
   "outputs": [
    {
     "name": "stdout",
     "output_type": "stream",
     "text": [
      "Enter a no.-6\n",
      "6 is positive\n"
     ]
    }
   ],
   "source": [
    "#Write a Python program to check whether a number is negative, positive or zero\n",
    "a=int(input(\"Enter a no.-\"))\n",
    "if(a>0):\n",
    "        print(f\"{a} is positive\")\n",
    "\n",
    "elif(a<0):\n",
    "           print(f\"{a} is negative\")\n",
    "else:\n",
    "           print(f\"{a} is zero\")"
   ]
  },
  {
   "cell_type": "markdown",
   "id": "b426656d",
   "metadata": {},
   "source": [
    "## 2"
   ]
  },
  {
   "cell_type": "code",
   "execution_count": 8,
   "id": "58b0f53e",
   "metadata": {},
   "outputs": [
    {
     "name": "stdout",
     "output_type": "stream",
     "text": [
      "Enter a no.-7\n",
      "7 is not divisible by 5 or 11\n"
     ]
    }
   ],
   "source": [
    "#Write a Python program to check whether a number is divisible by 5 and 11 or not. \n",
    "a=int(input(\"Enter a no.-\"))\n",
    "if(a%5==0):\n",
    "    print(f\"{a} is divisible by 5\")\n",
    "elif(a%11==0):\n",
    "    print(f\"{a} is divisible by 11\")\n",
    "else:\n",
    "          print(f\"{a} is not divisible by 5 or 11\")"
   ]
  },
  {
   "cell_type": "markdown",
   "id": "d3a5380f",
   "metadata": {},
   "source": [
    "## 3"
   ]
  },
  {
   "cell_type": "code",
   "execution_count": 9,
   "id": "fc205d79",
   "metadata": {},
   "outputs": [
    {
     "name": "stdout",
     "output_type": "stream",
     "text": [
      "Enter a year:- 1900\n",
      "1900 is not leap year\n"
     ]
    }
   ],
   "source": [
    "#Write a Python program to check whether a year is leap year or not. \n",
    "y=int(input(\"Enter a year:- \"))\n",
    "if(y%400==0):\n",
    "  print(f\"{y} is leap year\")\n",
    "elif(y%4==0 and y%100!=0):\n",
    "  print(f\"{y} is leap year\")\n",
    "else:\n",
    "  print(f\"{y} is not leap year\")"
   ]
  },
  {
   "cell_type": "markdown",
   "id": "d13c9c2c",
   "metadata": {},
   "source": [
    "## 4"
   ]
  },
  {
   "cell_type": "code",
   "execution_count": 11,
   "id": "530c17c4",
   "metadata": {},
   "outputs": [
    {
     "name": "stdout",
     "output_type": "stream",
     "text": [
      "Enter a character: 8\n",
      "It is not an alphabet.\n"
     ]
    }
   ],
   "source": [
    "#Write a Python program to check whether a character is alphabet or not\n",
    "c=input(\"Enter a character: \")\n",
    "if c>='a'and c<='z':\n",
    "   print(\"It is an alphabet.\")\n",
    "elif c>='A'and c<='Z':\n",
    "   print(\"It is an alphabet.\")\n",
    "else:\n",
    "   print(\"It is not an alphabet.\")\n"
   ]
  },
  {
   "cell_type": "markdown",
   "id": "9d47ab0a",
   "metadata": {},
   "source": [
    "## 5"
   ]
  },
  {
   "cell_type": "code",
   "execution_count": 16,
   "id": "b3905e38",
   "metadata": {},
   "outputs": [
    {
     "name": "stdout",
     "output_type": "stream",
     "text": [
      "Enter a character: r\n",
      "It is consonant.\n"
     ]
    }
   ],
   "source": [
    "#Write a Python program to input any alphabet and check whether it is vowel or consonant\n",
    "c=input(\"Enter a character: \")\n",
    "if c in ['a','e','i','o','u']:\n",
    "   print(\"It is vowel\")\n",
    "else:\n",
    "  print(\"It is consonant.\")"
   ]
  },
  {
   "cell_type": "markdown",
   "id": "9861c793",
   "metadata": {},
   "source": [
    "## 6"
   ]
  },
  {
   "cell_type": "code",
   "execution_count": 19,
   "id": "2e67acb1",
   "metadata": {},
   "outputs": [
    {
     "name": "stdout",
     "output_type": "stream",
     "text": [
      "Enter a character: 6\n",
      "It is digit.\n"
     ]
    }
   ],
   "source": [
    "#Write a Python program to input any character and check whether it is alphabet, digit or special character. \n",
    "d=input(\"Enter a character: \")\n",
    "if(d>='0' and d<='9'):\n",
    "  print(\"It is digit.\")\n",
    "elif(d>='a' and d<='z' or d>='A' and d<='Z'):\n",
    "  print(\"It is an alphabet.\")\n",
    "else:\n",
    "  print(\"It is a special character.\")"
   ]
  },
  {
   "cell_type": "markdown",
   "id": "a0707cce",
   "metadata": {},
   "source": [
    "## 7"
   ]
  },
  {
   "cell_type": "code",
   "execution_count": 21,
   "id": "431d8a47",
   "metadata": {},
   "outputs": [
    {
     "name": "stdout",
     "output_type": "stream",
     "text": [
      "Enter a character: R\n",
      "It is uppercase.\n"
     ]
    }
   ],
   "source": [
    "#Write a Python program to check whether a character is uppercase or lowercase alphab\n",
    "c=input(\"Enter a character: \")\n",
    "if(c>='a' and c<='z'):\n",
    "  print(\"It is lowercase.\" )\n",
    "else:\n",
    " print(\"It is uppercase.\" )"
   ]
  },
  {
   "cell_type": "markdown",
   "id": "95304dca",
   "metadata": {},
   "source": [
    "## 8"
   ]
  },
  {
   "cell_type": "code",
   "execution_count": 22,
   "id": "d845d459",
   "metadata": {},
   "outputs": [
    {
     "name": "stdout",
     "output_type": "stream",
     "text": [
      "Enter the week number.6\n",
      "Saturday\n"
     ]
    }
   ],
   "source": [
    "#Write a Python program to input week number and print weekday. \n",
    "i= int(input(\"Enter the week number.\"))\n",
    "if(i==1):\n",
    " print(\"Monday\")\n",
    "elif(i==2):\n",
    " print(\"Tuesday\")\n",
    "elif(i==3):\n",
    " print(\"Wed\")\n",
    "elif(i==4):\n",
    " print(\"thus\")\n",
    "elif(i==5):\n",
    " print(\"friday\")\n",
    "elif(i==6):\n",
    " print(\"Saturday\")\n",
    "else:\n",
    " print(\"Sunday\")"
   ]
  },
  {
   "cell_type": "markdown",
   "id": "3402b21c",
   "metadata": {},
   "source": [
    "## 9"
   ]
  },
  {
   "cell_type": "code",
   "execution_count": 23,
   "id": "fa745635",
   "metadata": {},
   "outputs": [
    {
     "name": "stdout",
     "output_type": "stream",
     "text": [
      "Enter the angle a= 60\n",
      "Enter the angle b= 70\n",
      "Enter the angle c= 60\n",
      "It is not an valid triangle\n"
     ]
    }
   ],
   "source": [
    "#Write a Python program to input angles of a triangle and check whether triangle is val id or not. \n",
    "a=int(input(\"Enter the angle a= \"))\n",
    "b=int(input(\"Enter the angle b= \"))\n",
    "c=int(input(\"Enter the angle c= \"))\n",
    "\n",
    "if(a+b+c==180):\n",
    " print(\"It is an valid triangle\")\n",
    "else:\n",
    " print(\"It is not an valid triangle\")"
   ]
  },
  {
   "cell_type": "markdown",
   "id": "0e32b40f",
   "metadata": {},
   "source": [
    "## 10"
   ]
  },
  {
   "cell_type": "code",
   "execution_count": 24,
   "id": "d9ce9a2a",
   "metadata": {
    "scrolled": true
   },
   "outputs": [
    {
     "name": "stdout",
     "output_type": "stream",
     "text": [
      "Enter the side a= 6\n",
      "Enter the side b= 6\n",
      "Enter the side c= 7\n",
      "It is an valid triangle\n"
     ]
    }
   ],
   "source": [
    "#Write a Python program to input all sides of a triangle and check whether triangle is valid or not. \n",
    "a=int(input(\"Enter the side a= \"))\n",
    "b=int(input(\"Enter the side b= \"))\n",
    "c=int(input(\"Enter the side c= \"))\n",
    "\n",
    "if(a+b>c):\n",
    " print(\"It is an valid triangle\")\n",
    "elif(b+c>a):\n",
    " print(\"It is an valid triangle\")\n",
    "elif(a+c>b):\n",
    " print(\"It is an valid triangle\")\n",
    "else:\n",
    " print(\"It is not an valid triangle\")\n"
   ]
  },
  {
   "cell_type": "markdown",
   "id": "db1b859e",
   "metadata": {},
   "source": [
    "## 11"
   ]
  },
  {
   "cell_type": "code",
   "execution_count": 28,
   "id": "e09daa11",
   "metadata": {},
   "outputs": [
    {
     "name": "stdout",
     "output_type": "stream",
     "text": [
      "Enter the side a= 4\n",
      "Enter the side b= 4\n",
      "Enter the side c= 6\n",
      "It is isosceles.\n"
     ]
    }
   ],
   "source": [
    "#Write a Python program to check whether the triangle is equilateral, isosceles or scalene triangle.\n",
    "a=int(input(\"Enter the side a= \"))\n",
    "b=int(input(\"Enter the side b= \"))\n",
    "c=int(input(\"Enter the side c= \"))\n",
    "\n",
    "if(a==b==c):\n",
    " print(\"It is equilateral.\")\n",
    "elif(a==b or b==c or a==c):\n",
    " print(\"It is isosceles.\")\n",
    "else:\n",
    " print(\"It is scalene.\")\n",
    "\n"
   ]
  },
  {
   "cell_type": "markdown",
   "id": "787355d0",
   "metadata": {},
   "source": [
    "## 12"
   ]
  },
  {
   "cell_type": "code",
   "execution_count": 30,
   "id": "7bb4b5e9",
   "metadata": {},
   "outputs": [
    {
     "name": "stdout",
     "output_type": "stream",
     "text": [
      "Enter Physics marks= 67\n",
      "Enter Chemistry marks= 87\n",
      "Enter Biology marks= 58\n",
      "Enter Mathematics marks= 89\n",
      "Enter computer marks= 79\n",
      "The percentage is 76.0%\n",
      "Grade C\n"
     ]
    }
   ],
   "source": [
    "#Write a Python program to input marks of five subjects Physics, Chemistry, Biology, \n",
    "#Mathematics and Computer. Calculate percentage and grade according to following:\n",
    "\n",
    "phy=int(input(\"Enter Physics marks= \"))\n",
    "chem=int(input(\"Enter Chemistry marks= \"))\n",
    "bio=int(input(\"Enter Biology marks= \"))\n",
    "maths=int(input(\"Enter Mathematics marks= \"))\n",
    "comp=int(input(\"Enter computer marks= \"))\n",
    "\n",
    "Percentage=((phy+chem+bio+maths+comp)/500)*100\n",
    "print(f\"The percentage is {Percentage}%\")\n",
    "\n",
    "if(Percentage >= 90):\n",
    " print(\"Grade A\")\n",
    "elif(Percentage >= 80):\n",
    " print(\"Grade B\")\n",
    "elif(Percentage >= 70):\n",
    " print(\"Grade C\")\n",
    "elif(Percentage >= 60):\n",
    " print(\"Grade D\")\n",
    "elif(Percentage >= 50):\n",
    " print(\"Grade E\")\n",
    "else:\n",
    " print(\"Grade F\")"
   ]
  },
  {
   "cell_type": "code",
   "execution_count": null,
   "id": "b1233b13",
   "metadata": {},
   "outputs": [],
   "source": []
  },
  {
   "cell_type": "markdown",
   "id": "382943f5",
   "metadata": {},
   "source": [
    "## 13"
   ]
  },
  {
   "cell_type": "code",
   "execution_count": 32,
   "id": "e4e71656",
   "metadata": {},
   "outputs": [
    {
     "name": "stdout",
     "output_type": "stream",
     "text": [
      "Enter salary: 60000\n",
      "The gross salary is 135000.0.\n"
     ]
    }
   ],
   "source": [
    "#Write a Python program to input basic salary of an employee and calculate its Gross salary according to following:  \n",
    "\n",
    "basic_salary=int(input(\"Enter salary: \"))\n",
    "if basic_salary > 20000:\n",
    "  hra=.30 * basic_salary\n",
    "  da=.95*basic_salary\n",
    "elif basic_salary>10000:\n",
    "  hra=.25*basic_salary\n",
    "  da=.90*basic_salary\n",
    "else:\n",
    " hra=.20*basic_salary\n",
    " da=.80*basic_salary\n",
    "    \n",
    "gross_salary = basic_salary + hra + da\n",
    "print(f\"The gross salary is {gross_salary}.\")"
   ]
  },
  {
   "cell_type": "markdown",
   "id": "aaf23d01",
   "metadata": {},
   "source": [
    "## 14"
   ]
  },
  {
   "cell_type": "code",
   "execution_count": 36,
   "id": "fa85eece",
   "metadata": {},
   "outputs": [
    {
     "name": "stdout",
     "output_type": "stream",
     "text": [
      "Units= 134\n",
      "88.0\n",
      "1548.8000000000002\n"
     ]
    }
   ],
   "source": [
    "u=int(input(\"Units= \"))\n",
    "if u<=50:\n",
    "  total_bill = u*0.50\n",
    "elif u<=150:\n",
    "  total_bill = 50*0.50 +(u-50)*0.75\n",
    "elif u<=250:\n",
    "   total_bill = 50*0.50 +100*0.75+(u-150)*1.2\n",
    "else:\n",
    "   total_bill = 50*0.50 +100*0.75+100*1.2 +(u-250)*1.5 \n",
    "\n",
    "print(total_bill)\n",
    "Final_bill=total_bill * 0.2*total_bill\n",
    "print(Final_bill)\n",
    "\n"
   ]
  },
  {
   "cell_type": "code",
   "execution_count": null,
   "id": "50bdbdbe",
   "metadata": {},
   "outputs": [],
   "source": []
  }
 ],
 "metadata": {
  "kernelspec": {
   "display_name": "Python 3 (ipykernel)",
   "language": "python",
   "name": "python3"
  },
  "language_info": {
   "codemirror_mode": {
    "name": "ipython",
    "version": 3
   },
   "file_extension": ".py",
   "mimetype": "text/x-python",
   "name": "python",
   "nbconvert_exporter": "python",
   "pygments_lexer": "ipython3",
   "version": "3.10.9"
  }
 },
 "nbformat": 4,
 "nbformat_minor": 5
}
