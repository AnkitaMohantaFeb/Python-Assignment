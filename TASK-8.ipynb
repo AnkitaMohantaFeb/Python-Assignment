{
 "cells": [
  {
   "cell_type": "markdown",
   "id": "271004bf",
   "metadata": {},
   "source": [
    "## 1\n",
    "What are the two values of the Boolean data type?\n",
    "True and False\n",
    "How do you write them? \n"
   ]
  },
  {
   "cell_type": "code",
   "execution_count": 1,
   "id": "5c383bdc",
   "metadata": {},
   "outputs": [
    {
     "name": "stdout",
     "output_type": "stream",
     "text": [
      "True\n"
     ]
    }
   ],
   "source": [
    "a=10\n",
    "b=9\n",
    "print(a>b)"
   ]
  },
  {
   "cell_type": "code",
   "execution_count": 2,
   "id": "768e8683",
   "metadata": {},
   "outputs": [
    {
     "name": "stdout",
     "output_type": "stream",
     "text": [
      "False\n"
     ]
    }
   ],
   "source": [
    "print(b>a)"
   ]
  },
  {
   "cell_type": "markdown",
   "id": "008813e8",
   "metadata": {},
   "source": [
    "## 2\n",
    "The Relational operators are used to evaluate boolean result\n",
    "boolean operator:- and,or,not."
   ]
  },
  {
   "cell_type": "markdown",
   "id": "fd8d2ebe",
   "metadata": {},
   "source": [
    "## 3"
   ]
  },
  {
   "cell_type": "raw",
   "id": "308712f4",
   "metadata": {},
   "source": [
    " and      or    NOT\n",
    " A B Y  A B Y  A  Y\n",
    " 0 0 0  0 0 0  0  1\n",
    " 0 1 0  0 1 1  1  0\n",
    " 1 0 0  1 0 1\n",
    " 1 1 1  1 1 1"
   ]
  },
  {
   "cell_type": "markdown",
   "id": "89eb0486",
   "metadata": {},
   "source": [
    "## 4"
   ]
  },
  {
   "cell_type": "code",
   "execution_count": 23,
   "id": "9c8c6fff",
   "metadata": {},
   "outputs": [
    {
     "data": {
      "text/plain": [
       "False"
      ]
     },
     "execution_count": 23,
     "metadata": {},
     "output_type": "execute_result"
    }
   ],
   "source": [
    "not 5>4"
   ]
  },
  {
   "cell_type": "code",
   "execution_count": 27,
   "id": "35ef66a1",
   "metadata": {},
   "outputs": [
    {
     "data": {
      "text/plain": [
       "True"
      ]
     },
     "execution_count": 27,
     "metadata": {},
     "output_type": "execute_result"
    }
   ],
   "source": [
    "5>4 or 3==5"
   ]
  },
  {
   "cell_type": "code",
   "execution_count": 30,
   "id": "5e73ade2",
   "metadata": {},
   "outputs": [
    {
     "data": {
      "text/plain": [
       "False"
      ]
     },
     "execution_count": 30,
     "metadata": {},
     "output_type": "execute_result"
    }
   ],
   "source": [
    "not 5>4 or 3==5"
   ]
  },
  {
   "cell_type": "code",
   "execution_count": 31,
   "id": "636eb6dd",
   "metadata": {},
   "outputs": [
    {
     "data": {
      "text/plain": [
       "False"
      ]
     },
     "execution_count": 31,
     "metadata": {},
     "output_type": "execute_result"
    }
   ],
   "source": [
    "(True and True) and (True == False)"
   ]
  },
  {
   "cell_type": "code",
   "execution_count": 37,
   "id": "8564f3b8",
   "metadata": {},
   "outputs": [
    {
     "data": {
      "text/plain": [
       "True"
      ]
     },
     "execution_count": 37,
     "metadata": {},
     "output_type": "execute_result"
    }
   ],
   "source": [
    "(not False) or (not True)"
   ]
  },
  {
   "cell_type": "markdown",
   "id": "86a5421e",
   "metadata": {},
   "source": [
    "## 5"
   ]
  },
  {
   "cell_type": "raw",
   "id": "7c27af04",
   "metadata": {},
   "source": [
    "6 comparison operator\n",
    "==  equal\n",
    "!= not eaual\n",
    ">= greater than equal to\n",
    "<= less than equal to\n",
    "> great\n",
    "< less\n"
   ]
  },
  {
   "cell_type": "markdown",
   "id": "449da651",
   "metadata": {},
   "source": [
    "## 6"
   ]
  },
  {
   "cell_type": "raw",
   "id": "e4d3f54f",
   "metadata": {},
   "source": [
    "= :- Used to assign value to a variable (equal)\n",
    "==:- used to compare two variable or constants(assignment operator)"
   ]
  },
  {
   "cell_type": "markdown",
   "id": "dc63de96",
   "metadata": {},
   "source": [
    "## 7"
   ]
  },
  {
   "cell_type": "markdown",
   "id": "d13a46b0",
   "metadata": {},
   "source": [
    "Conditions are statement that can either be true or false. and we use it to trigger actions."
   ]
  }
 ],
 "metadata": {
  "kernelspec": {
   "display_name": "Python 3 (ipykernel)",
   "language": "python",
   "name": "python3"
  },
  "language_info": {
   "codemirror_mode": {
    "name": "ipython",
    "version": 3
   },
   "file_extension": ".py",
   "mimetype": "text/x-python",
   "name": "python",
   "nbconvert_exporter": "python",
   "pygments_lexer": "ipython3",
   "version": "3.10.9"
  }
 },
 "nbformat": 4,
 "nbformat_minor": 5
}
