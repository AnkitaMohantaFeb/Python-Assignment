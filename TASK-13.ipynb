{
 "cells": [
  {
   "cell_type": "markdown",
   "id": "846f83fc",
   "metadata": {},
   "source": [
    "## 1\n"
   ]
  },
  {
   "cell_type": "code",
   "execution_count": 1,
   "id": "e2556f3d",
   "metadata": {},
   "outputs": [
    {
     "name": "stdout",
     "output_type": "stream",
     "text": [
      "Enter a stringHello I hope you are doing great\n",
      "{'a': 2, 'e': 4, 'i': 2, 'o': 4, 'u': 1}\n"
     ]
    }
   ],
   "source": [
    "\n",
    "\n",
    "vowels = 'aeiou'\n",
    "\n",
    "Input=input(\"Enter a string\")\n",
    "\n",
    "\n",
    "Input = Input.casefold()\n",
    "\n",
    "\n",
    "count = {}.fromkeys(vowels,0)\n",
    "\n",
    "# count the vowels\n",
    "for char in Input:\n",
    "   if char in count:\n",
    "       count[char] += 1\n",
    "\n",
    "print(count)"
   ]
  },
  {
   "cell_type": "markdown",
   "id": "95d1c9bf",
   "metadata": {},
   "source": [
    "## 2"
   ]
  },
  {
   "cell_type": "code",
   "execution_count": 3,
   "id": "bba0ac8e",
   "metadata": {},
   "outputs": [
    {
     "name": "stdout",
     "output_type": "stream",
     "text": [
      "Enter a string Heave and hell, both are same.\n",
      " words  6\n",
      "characters  30\n",
      "space   5\n"
     ]
    }
   ],
   "source": [
    "Input=input(\"Enter a string \")\n",
    "char=0\n",
    "word=1\n",
    "for i in Input:\n",
    "    char=char+1\n",
    "    if(i==' '):\n",
    "        word=word+1\n",
    "print(\" words \",word)\n",
    "print(\"characters \",char)\n",
    "print(\"space  \",(word-1))"
   ]
  },
  {
   "cell_type": "markdown",
   "id": "3b6d954f",
   "metadata": {},
   "source": [
    "## 3\n"
   ]
  },
  {
   "cell_type": "code",
   "execution_count": 4,
   "id": "12ff4c75",
   "metadata": {},
   "outputs": [
    {
     "name": "stdout",
     "output_type": "stream",
     "text": [
      "Enter a string \"Have you a pen I can borrow?\" she asked.\n",
      "The original string is : \"Have you a pen I can borrow?\" she asked.\n",
      "The string after removing punctuation  : Have you a pen I can borrow she asked\n"
     ]
    }
   ],
   "source": [
    "\n",
    "Input=input(\"Enter a string \")\n",
    " \n",
    "\n",
    "print(\"The original string is : \" + Input)\n",
    " \n",
    "\n",
    "punc = '''!()-[]{};:'\"\\,<>./?@#$%^&*_~'''\n",
    " \n",
    "\n",
    "for ele in Input:\n",
    "    if ele in punc:\n",
    "        Input = Input.replace(ele, \"\")\n",
    " \n",
    "# printing result\n",
    "print(\"The string after removing punctuation  : \" + Input)"
   ]
  },
  {
   "cell_type": "markdown",
   "id": "3b1a38f6",
   "metadata": {},
   "source": [
    "## 4"
   ]
  },
  {
   "cell_type": "code",
   "execution_count": 7,
   "id": "902c3932",
   "metadata": {},
   "outputs": [
    {
     "name": "stdout",
     "output_type": "stream",
     "text": [
      "1\n",
      "2\n",
      "4\n",
      "5\n",
      "[[1, 2], [4, 5]]\n"
     ]
    }
   ],
   "source": [
    "\n",
    "matrix = []\n",
    "\n",
    "for i in range(2):\n",
    "   \n",
    "   row = []\n",
    "   for j in range(2):\n",
    "      \n",
    "      element = int(input())\n",
    "      \n",
    "      row.append(element)\n",
    "   \n",
    "   matrix.append(row)\n",
    "\n",
    "print(matrix)"
   ]
  },
  {
   "cell_type": "markdown",
   "id": "0e60b8dd",
   "metadata": {},
   "source": [
    "## 5\n"
   ]
  },
  {
   "cell_type": "code",
   "execution_count": 8,
   "id": "1d42cd91",
   "metadata": {},
   "outputs": [
    {
     "name": "stdout",
     "output_type": "stream",
     "text": [
      "Enter the elements of the first matrix:\n",
      "Enter the number of rows: 2\n",
      "Enter the number of columns: 2\n",
      "Enter element at position (1, 1): 1\n",
      "Enter element at position (1, 2): 2\n",
      "Enter element at position (2, 1): 4\n",
      "Enter element at position (2, 2): 5\n",
      "\n",
      "Enter the elements of the second matrix:\n",
      "Enter the number of rows: 2\n",
      "Enter the number of columns: 2\n",
      "Enter element at position (1, 1): 3\n",
      "Enter element at position (1, 2): 4\n",
      "Enter element at position (2, 1): 5\n",
      "Enter element at position (2, 2): 5\n",
      "\n",
      "Addition of the two matrices:\n",
      "[4, 6]\n",
      "[9, 10]\n",
      "\n",
      "Multiplication of the two matrices:\n",
      "[13, 14]\n",
      "[37, 41]\n",
      "\n",
      "Transpose of the first matrix:\n",
      "[1, 4]\n",
      "[2, 5]\n",
      "\n",
      "Transpose of the second matrix:\n",
      "[3, 5]\n",
      "[4, 5]\n"
     ]
    }
   ],
   "source": [
    "def get_matrix():\n",
    "    rows = int(input(\"Enter the number of rows: \"))\n",
    "    cols = int(input(\"Enter the number of columns: \"))\n",
    "    matrix = []\n",
    "    for i in range(rows):\n",
    "        row = []\n",
    "        for j in range(cols):\n",
    "            element = int(input(f\"Enter element at position ({i+1}, {j+1}): \"))\n",
    "            row.append(element)\n",
    "        matrix.append(row)\n",
    "    return matrix\n",
    "\n",
    "def add_matrices(matrix1, matrix2):\n",
    "    if len(matrix1) != len(matrix2) or len(matrix1[0]) != len(matrix2[0]):\n",
    "        print(\"Cannot add matrices of different dimensions.\")\n",
    "        return None\n",
    "    result = []\n",
    "    for i in range(len(matrix1)):\n",
    "        row = []\n",
    "        for j in range(len(matrix1[0])):\n",
    "            element = matrix1[i][j] + matrix2[i][j]\n",
    "            row.append(element)\n",
    "        result.append(row)\n",
    "    return result\n",
    "\n",
    "def multiply_matrices(matrix1, matrix2):\n",
    "    if len(matrix1[0]) != len(matrix2):\n",
    "        print(\"Cannot multiply matrices with incompatible dimensions.\")\n",
    "        return None\n",
    "    result = []\n",
    "    for i in range(len(matrix1)):\n",
    "        row = []\n",
    "        for j in range(len(matrix2[0])):\n",
    "            element = 0\n",
    "            for k in range(len(matrix2)):\n",
    "                element += matrix1[i][k] * matrix2[k][j]\n",
    "            row.append(element)\n",
    "        result.append(row)\n",
    "    return result\n",
    "\n",
    "def transpose_matrix(matrix):\n",
    "    result = []\n",
    "    for j in range(len(matrix[0])):\n",
    "        row = []\n",
    "        for i in range(len(matrix)):\n",
    "            row.append(matrix[i][j])\n",
    "        result.append(row)\n",
    "    return result\n",
    "\n",
    "# Get the matrices from the user\n",
    "print(\"Enter the elements of the first matrix:\")\n",
    "matrix1 = get_matrix()\n",
    "\n",
    "print(\"\\nEnter the elements of the second matrix:\")\n",
    "matrix2 = get_matrix()\n",
    "\n",
    "# Perform addition\n",
    "sum_matrix = add_matrices(matrix1, matrix2)\n",
    "if sum_matrix is not None:\n",
    "    print(\"\\nAddition of the two matrices:\")\n",
    "    for row in sum_matrix:\n",
    "        print(row)\n",
    "\n",
    "# Perform multiplication\n",
    "product_matrix = multiply_matrices(matrix1, matrix2)\n",
    "if product_matrix is not None:\n",
    "    print(\"\\nMultiplication of the two matrices:\")\n",
    "    for row in product_matrix:\n",
    "        print(row)\n",
    "\n",
    "# Perform transpose\n",
    "transpose_matrix1 = transpose_matrix(matrix1)\n",
    "transpose_matrix2 = transpose_matrix(matrix2)\n",
    "\n",
    "print(\"\\nTranspose of the first matrix:\")\n",
    "for row in transpose_matrix1:\n",
    "    print(row)\n",
    "\n",
    "print(\"\\nTranspose of the second matrix:\")\n",
    "for row in transpose_matrix2:\n",
    "    print(row)\n"
   ]
  },
  {
   "cell_type": "code",
   "execution_count": null,
   "id": "c27a07f6",
   "metadata": {},
   "outputs": [],
   "source": []
  }
 ],
 "metadata": {
  "kernelspec": {
   "display_name": "Python 3 (ipykernel)",
   "language": "python",
   "name": "python3"
  },
  "language_info": {
   "codemirror_mode": {
    "name": "ipython",
    "version": 3
   },
   "file_extension": ".py",
   "mimetype": "text/x-python",
   "name": "python",
   "nbconvert_exporter": "python",
   "pygments_lexer": "ipython3",
   "version": "3.10.9"
  }
 },
 "nbformat": 4,
 "nbformat_minor": 5
}
