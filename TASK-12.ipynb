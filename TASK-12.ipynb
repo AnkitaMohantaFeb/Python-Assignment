{
 "cells": [
  {
   "cell_type": "markdown",
   "id": "3eb10f32",
   "metadata": {},
   "source": [
    "# Guess Game Guess Game "
   ]
  },
  {
   "cell_type": "code",
   "execution_count": 5,
   "id": "b82f5c55",
   "metadata": {},
   "outputs": [
    {
     "name": "stdout",
     "output_type": "stream",
     "text": [
      "Enter the num=8\n",
      "hint: think a high number!=50\n",
      "hint: think a low number!40\n",
      "hint: think a high number!=41\n",
      "hint: think a high number!=48\n",
      "congrats! you guess correct.\n"
     ]
    }
   ],
   "source": [
    "import random\n",
    "guess=int(input(\"Enter the num=\"))\n",
    "n= random.randrange(1,50)\n",
    "while n!=guess:\n",
    "    if n>guess:\n",
    "        guess=int(input(\"hint: think a high number!=\"))\n",
    "        \n",
    "    elif n<guess:\n",
    "        guess=int(input(\"hint: think a low number!\"))\n",
    "    else:\n",
    "        break\n",
    "print(\"congrats! you guess correct.\")\n",
    "      "
   ]
  },
  {
   "cell_type": "markdown",
   "id": "74b5f52e",
   "metadata": {},
   "source": [
    "## 2"
   ]
  },
  {
   "cell_type": "code",
   "execution_count": 7,
   "id": "a21ccad9",
   "metadata": {},
   "outputs": [
    {
     "name": "stdout",
     "output_type": "stream",
     "text": [
      "2\n",
      "2\n",
      "2\n",
      "2\n",
      "[[0, 0, 0], [0, 0, 1], [0, 1, 0], [0, 1, 2], [0, 2, 1], [0, 2, 2], [1, 0, 0], [1, 0, 2], [1, 1, 1], [1, 1, 2], [1, 2, 0], [1, 2, 1], [1, 2, 2], [2, 0, 1], [2, 0, 2], [2, 1, 0], [2, 1, 1], [2, 1, 2], [2, 2, 0], [2, 2, 1], [2, 2, 2]]\n"
     ]
    }
   ],
   "source": [
    "if __name__ == '__main__':\n",
    "    x = int(input())\n",
    "    y = int(input())\n",
    "    z = int(input())\n",
    "    n = int(input())\n",
    "    l=[[i,j,k] for i in range(x+1) for j in range(y+1) for k in range(z+1) if (i+j+k)!=n]\n",
    "    print(l)"
   ]
  },
  {
   "cell_type": "markdown",
   "id": "12f03508",
   "metadata": {},
   "source": [
    "## 3"
   ]
  },
  {
   "cell_type": "markdown",
   "id": "894c7fde",
   "metadata": {},
   "source": [
    "def operation():\n",
    "    n=int(input())\n",
    "    l=[]\n",
    "    for i in range(n):\n",
    "        s=input().split()\n",
    "        if(s[0]=='insert'):\n",
    "            l.insert(int(s[1]),int(s[2]))\n",
    "        elif(s[0]=='print'):\n",
    "            print(l)\n",
    "        elif(s[0]=='remove'):\n",
    "            l.remove(int(s[1]))\n",
    "        elif(s[0]=='append'):\n",
    "            l.append(int(s[1]))\n",
    "        elif(s[0]=='sort'):\n",
    "            l.sort()\n",
    "        elif(s[0]=='pop'):\n",
    "            l.pop()\n",
    "        elif(s[0]=='reverse'):\n",
    "            l.reverse()\n",
    "operation()"
   ]
  },
  {
   "cell_type": "markdown",
   "id": "c38e8a6c",
   "metadata": {},
   "source": [
    "## 4"
   ]
  },
  {
   "cell_type": "code",
   "execution_count": null,
   "id": "e6fe1ca5",
   "metadata": {},
   "outputs": [],
   "source": [
    "def operation():\n",
    "    n=int(input())\n",
    "    dic={}\n",
    "    for _ in range(n):\n",
    "        s=input().split(\" \",1)\n",
    "        dic[s[0]]=[float(e) for e in s[1].split()]\n",
    "    s=input()\n",
    "    print(\"%.2f\" % (sum(dic[s])/3))\n",
    "operation()"
   ]
  },
  {
   "cell_type": "markdown",
   "id": "5ec382a1",
   "metadata": {},
   "source": [
    "## 5"
   ]
  },
  {
   "cell_type": "code",
   "execution_count": 10,
   "id": "17040968",
   "metadata": {},
   "outputs": [
    {
     "name": "stdout",
     "output_type": "stream",
     "text": [
      "Sorted array is:\n",
      " 2  4  8  9  11  17  19  31  43 "
     ]
    }
   ],
   "source": [
    "def bubbleSort(arr):\n",
    "    n = len(arr)\n",
    "    swapped = False\n",
    "    \n",
    "    for i in range(n-1):\n",
    "        \n",
    "        for j in range(0, n-i-1):\n",
    "             if arr[j] > arr[j + 1]:\n",
    "                swapped = True\n",
    "                arr[j], arr[j + 1] = arr[j + 1], arr[j]\n",
    "         \n",
    "        if not swapped:\n",
    "            \n",
    "            return\n",
    " \n",
    " \n",
    "arr = [4,8,9,11,2,31,19,17,43]\n",
    " \n",
    "bubbleSort(arr)\n",
    " \n",
    "print(\"Sorted array is:\")\n",
    "for i in range(len(arr)):\n",
    "    print(\"% d\" % arr[i], end=\" \")\n"
   ]
  },
  {
   "cell_type": "code",
   "execution_count": 14,
   "id": "12ed3a23",
   "metadata": {},
   "outputs": [
    {
     "name": "stdout",
     "output_type": "stream",
     "text": [
      "Sorted Array in Ascending Order:\n",
      "[1, 3, 4, 5, 9]\n"
     ]
    }
   ],
   "source": [
    "# Insertion sort in Python\n",
    "\n",
    "\n",
    "def insertionSort(array):\n",
    "\n",
    "    for step in range(1, len(array)):\n",
    "        key = array[step]\n",
    "        j = step - 1\n",
    "        \n",
    "        while j >= 0 and key < array[j]:\n",
    "            array[j + 1] = array[j]\n",
    "            j = j - 1\n",
    "        \n",
    "       \n",
    "        array[j + 1] = key\n",
    "\n",
    "\n",
    "data = [9, 5, 1, 4, 3]\n",
    "insertionSort(data)\n",
    "print('Sorted Array in Ascending Order:')\n",
    "print(data)\n"
   ]
  },
  {
   "cell_type": "code",
   "execution_count": 17,
   "id": "50300ee1",
   "metadata": {},
   "outputs": [
    {
     "name": "stdout",
     "output_type": "stream",
     "text": [
      "[5, 7, 8, 12, 30, 45, 47, 65, 80, 97]\n"
     ]
    }
   ],
   "source": [
    "def selectionSort(array, size):\n",
    "    \n",
    "    for ind in range(size):\n",
    "        min_index = ind\n",
    " \n",
    "        for j in range(ind + 1, size):\n",
    "           \n",
    "            if array[j] < array[min_index]:\n",
    "                min_index = j\n",
    "         \n",
    "        (array[ind], array[min_index]) = (array[min_index], array[ind])\n",
    " \n",
    "arr = [5,7,8,97,45,65,12,30,80,47]\n",
    "size = len(arr)\n",
    "selectionSort(arr, size)\n",
    "\n",
    "print(arr)"
   ]
  },
  {
   "cell_type": "code",
   "execution_count": null,
   "id": "692ec9d3",
   "metadata": {},
   "outputs": [],
   "source": []
  }
 ],
 "metadata": {
  "kernelspec": {
   "display_name": "Python 3 (ipykernel)",
   "language": "python",
   "name": "python3"
  },
  "language_info": {
   "codemirror_mode": {
    "name": "ipython",
    "version": 3
   },
   "file_extension": ".py",
   "mimetype": "text/x-python",
   "name": "python",
   "nbconvert_exporter": "python",
   "pygments_lexer": "ipython3",
   "version": "3.10.9"
  }
 },
 "nbformat": 4,
 "nbformat_minor": 5
}
