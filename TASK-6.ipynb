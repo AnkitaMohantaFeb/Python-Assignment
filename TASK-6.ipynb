{
 "cells": [
  {
   "cell_type": "markdown",
   "id": "8c3444b5",
   "metadata": {},
   "source": [
    "## 1"
   ]
  },
  {
   "cell_type": "raw",
   "id": "1d5d93fa",
   "metadata": {},
   "source": [
    "1.Analyze survey data\n",
    "2.rock,paper,scissor\n",
    "3.guessing game\n",
    "4.snake game\n",
    "5.password generator\n",
    "6.predicting car prizes\n",
    "7.predicting  using Machinw learning\n",
    "8.URL shortener\n",
    "9.build a countdown calculator\n",
    "10.build an alarm clock"
   ]
  },
  {
   "cell_type": "markdown",
   "id": "3ce9f02b",
   "metadata": {},
   "source": [
    "## 2"
   ]
  },
  {
   "cell_type": "code",
   "execution_count": 1,
   "id": "84f4f323",
   "metadata": {},
   "outputs": [],
   "source": [
    "Programmers=[\"Bill Gates\",\"Guido Van Rossum\",\"Tim Berners-Lee\",\"James Gosling\",\"Dennis Ritchie\"]"
   ]
  },
  {
   "cell_type": "code",
   "execution_count": 2,
   "id": "12d623a3",
   "metadata": {},
   "outputs": [
    {
     "name": "stdout",
     "output_type": "stream",
     "text": [
      "['Bill Gates', 'Guido Van Rossum', 'Tim Berners-Lee', 'James Gosling', 'Dennis Ritchie']\n"
     ]
    }
   ],
   "source": [
    "print(Programmers)"
   ]
  },
  {
   "cell_type": "code",
   "execution_count": 1,
   "id": "c28a1dfc",
   "metadata": {},
   "outputs": [
    {
     "name": "stdout",
     "output_type": "stream",
     "text": [
      "{'Name': 'Guido Van Rossum', 'language': 'python', 'Nationality': 'Dutch'}\n"
     ]
    }
   ],
   "source": [
    "Programmers={\"Name\":\"Guido Van Rossum\",\"language\":\"python\",\"Nationality\":\"Dutch\"}\n",
    "print(Programmers)"
   ]
  },
  {
   "cell_type": "markdown",
   "id": "1fce87fc",
   "metadata": {},
   "source": [
    "## 3"
   ]
  },
  {
   "cell_type": "markdown",
   "id": "31850048",
   "metadata": {},
   "source": [
    "Duck typing is the idea that instead of checking the type of something in Python, we tend to check what behavior it supports (often by attempting to use the behavior and catching an exception if it doesn't work).\n",
    "Dunder or magic or special methods in Python are the methods having two prefix and suffix underscores in the method name.\n",
    "__add__,__div__,etc."
   ]
  },
  {
   "cell_type": "markdown",
   "id": "194ed8e1",
   "metadata": {},
   "source": [
    "## 4"
   ]
  },
  {
   "cell_type": "markdown",
   "id": "c5c58e1e",
   "metadata": {},
   "source": [
    "Python language supports the following types of operators.\n",
    "\n",
    "Arithmetic Operators:- +,-,/,*,%,**(exponent),//(floor division or roundup)\n",
    "Comparison (Relational) Operators:-==,!=,>,<,>=,<=\n",
    "Assignment Operators:- =,+=,-+,*=,/=,%=,//=,**=\n",
    "Logical Operators:-and,or,not\n",
    "Bitwise Operators:-&,|(or),^(xor),~(complement),<<(binary left shift),>>(binary right shift)\n",
    "Membership Operators:-in,not in\n",
    "Identity Operators:-is,is not"
   ]
  },
  {
   "cell_type": "code",
   "execution_count": null,
   "id": "a0007e53",
   "metadata": {},
   "outputs": [],
   "source": []
  }
 ],
 "metadata": {
  "kernelspec": {
   "display_name": "Python 3 (ipykernel)",
   "language": "python",
   "name": "python3"
  },
  "language_info": {
   "codemirror_mode": {
    "name": "ipython",
    "version": 3
   },
   "file_extension": ".py",
   "mimetype": "text/x-python",
   "name": "python",
   "nbconvert_exporter": "python",
   "pygments_lexer": "ipython3",
   "version": "3.10.9"
  }
 },
 "nbformat": 4,
 "nbformat_minor": 5
}
